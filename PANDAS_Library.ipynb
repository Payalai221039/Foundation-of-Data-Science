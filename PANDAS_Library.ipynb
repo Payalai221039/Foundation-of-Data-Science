{
  "nbformat": 4,
  "nbformat_minor": 0,
  "metadata": {
    "colab": {
      "provenance": [],
      "mount_file_id": "1C6kntlNLyL2_m9JgvGsKaR0XTO7XbYkh",
      "authorship_tag": "ABX9TyNpyTGZbZGwMPowz6dOzkVH",
      "include_colab_link": true
    },
    "kernelspec": {
      "name": "python3",
      "display_name": "Python 3"
    },
    "language_info": {
      "name": "python"
    }
  },
  "cells": [
    {
      "cell_type": "markdown",
      "metadata": {
        "id": "view-in-github",
        "colab_type": "text"
      },
      "source": [
        "<a href=\"https://colab.research.google.com/github/OshankAgrawal/Foundation-of-Data-Science/blob/main/PANDAS_Library.ipynb\" target=\"_parent\"><img src=\"https://colab.research.google.com/assets/colab-badge.svg\" alt=\"Open In Colab\"/></a>"
      ]
    },
    {
      "cell_type": "markdown",
      "source": [
        "# Pandas Python Library"
      ],
      "metadata": {
        "id": "hmRE_-CMA2B4"
      }
    },
    {
      "cell_type": "markdown",
      "source": [
        "Pandas is Python library used for working with data sets.\n",
        "\n",
        "It has functions for analysing, cleaning, exploring, and manipluating data.\n",
        "\n",
        "The name 'Pandas' has reference to both \"Panel Data\", and \"Python Data Analysis\" and was created by **Wes McKinney** in 2008."
      ],
      "metadata": {
        "id": "5Lp56Nkwa-RT"
      }
    },
    {
      "cell_type": "markdown",
      "source": [
        "**Why use Pandas?**"
      ],
      "metadata": {
        "id": "QO10mNlyAw-r"
      }
    },
    {
      "cell_type": "markdown",
      "source": [
        "Pandas allows us to analyse big data and make conclusion based on statistical theories.\n",
        "\n",
        "Pandas can clean messy data sets, and make them readable and relevant.\n",
        "\n",
        "Relevant data is very important in Data Science.\n",
        "\n",
        "**Data Science:** is the branch of computer science where we study how to store, use and analyze data for deriving information from it."
      ],
      "metadata": {
        "id": "tW8bwMm9BAcc"
      }
    },
    {
      "cell_type": "markdown",
      "source": [
        "**What can Pandas Do?**"
      ],
      "metadata": {
        "id": "qU7arY52B8WU"
      }
    },
    {
      "cell_type": "markdown",
      "source": [
        "Pandas gives you answer about the data.\n",
        "\n",
        "Like:\n",
        "\n",
        "* Is there a correlation between two or more columns?\n",
        "\n",
        "* What is the average value?\n",
        "\n",
        "* What is the maximum value?\n",
        "\n",
        "* What is the minimum value?\n",
        "\n",
        "Pandas are also able to delete rows that are not relevant, or contains wrong values, like empty or NULL values. This is called cleaning the data."
      ],
      "metadata": {
        "id": "NM1Rx8pZCB_U"
      }
    },
    {
      "cell_type": "markdown",
      "source": [
        "**Create the Dataframe with Pandas**\n",
        "\n",
        "Data sets in pandas are usually milti-dimensional table, called DataFrames.\n",
        "\n",
        "Series is like a column, where as DataFrame is the whole table."
      ],
      "metadata": {
        "id": "jaScmyvxKS5a"
      }
    },
    {
      "cell_type": "code",
      "source": [
        "import pandas as pd\n",
        "mydataset={\"Name\":[\"Oshank\",\"Aryan\",\"Madhavi\",\"Palak\",\"Tanu\"],\"PhoneNo.\":[9638527410,1234556789,9516238470,1594872630,7534218690]}\n",
        "df=pd.DataFrame(mydataset)\n",
        "print(df)"
      ],
      "metadata": {
        "colab": {
          "base_uri": "https://localhost:8080/"
        },
        "id": "ndT7dJsCL90J",
        "outputId": "6613b32c-06cf-43bb-c8e5-353ec82f8fda"
      },
      "execution_count": null,
      "outputs": [
        {
          "output_type": "stream",
          "name": "stdout",
          "text": [
            "      Name    PhoneNo.\n",
            "0   Oshank  9638527410\n",
            "1    Aryan  1234556789\n",
            "2  Madhavi  9516238470\n",
            "3    Palak  1594872630\n",
            "4     Tanu  7534218690\n"
          ]
        }
      ]
    },
    {
      "cell_type": "markdown",
      "source": [
        "**Pandas Series**\n",
        "\n",
        "A pandas series is like a column in a table.\n",
        "\n",
        "It is a one-dimensional array holding data of any type."
      ],
      "metadata": {
        "id": "D0K_r302OrVR"
      }
    },
    {
      "cell_type": "markdown",
      "source": [
        "**Create Pandas Series by passing List**"
      ],
      "metadata": {
        "id": "q8VsMxftLPes"
      }
    },
    {
      "cell_type": "code",
      "source": [
        "import pandas as pd\n",
        "a=[1,2,3,4,5,6]\n",
        "sr=pd.Series(a)\n",
        "print(sr)"
      ],
      "metadata": {
        "colab": {
          "base_uri": "https://localhost:8080/"
        },
        "id": "fjaZE7fgQdEf",
        "outputId": "53c60446-a05e-4a78-fcda-a7dda68d60ca"
      },
      "execution_count": null,
      "outputs": [
        {
          "output_type": "stream",
          "name": "stdout",
          "text": [
            "0    1\n",
            "1    2\n",
            "2    3\n",
            "3    4\n",
            "4    5\n",
            "5    6\n",
            "dtype: int64\n"
          ]
        }
      ]
    },
    {
      "cell_type": "markdown",
      "source": [
        "**Change the Labels or index of Series**"
      ],
      "metadata": {
        "id": "yDMM000OLVk6"
      }
    },
    {
      "cell_type": "code",
      "source": [
        "import pandas as pd\n",
        "b=[\"Ram\",\"Shyam\",\"Ghanshyam\",\"Mohan\"]\n",
        "sr=pd.Series(b,index=[\"A\",\"B\",\"C\",\"D\"])\n",
        "print(sr)"
      ],
      "metadata": {
        "colab": {
          "base_uri": "https://localhost:8080/"
        },
        "id": "tBSF3WZsQno0",
        "outputId": "e8d5d088-bae7-421d-9269-c728957bfdc2"
      },
      "execution_count": null,
      "outputs": [
        {
          "output_type": "stream",
          "name": "stdout",
          "text": [
            "A          Ram\n",
            "B        Shyam\n",
            "C    Ghanshyam\n",
            "D        Mohan\n",
            "dtype: object\n"
          ]
        }
      ]
    },
    {
      "cell_type": "markdown",
      "source": [
        "**Create Pandas Series by passing the Dictonary**\n"
      ],
      "metadata": {
        "id": "Mcqfb3nWLbII"
      }
    },
    {
      "cell_type": "code",
      "source": [
        "import pandas as pd\n",
        "data = {'Name':[\"Oshank Agrawal\",\"Madhavi\",\"Sakshi Tiwari\",\"Harshraj Ray\",\"Prince Kumar Gatte\",\"Abhishek Shristava\"],'CGPA':[8.6,7.6,7.8,8.1,7.8,8.0],'city':[\"Mathura\",\"Bhopal\",\"Viodisha\",\"Shadol\",\" \",\"Bhopal\"]}\n",
        "series=pd.Series(data,index=['city','Name'])\n",
        "print(series)"
      ],
      "metadata": {
        "colab": {
          "base_uri": "https://localhost:8080/"
        },
        "id": "zhFgcUz2LivL",
        "outputId": "70ab30b2-9836-477b-a936-f8436dfd5ced"
      },
      "execution_count": null,
      "outputs": [
        {
          "output_type": "stream",
          "name": "stdout",
          "text": [
            "city       [Mathura, Bhopal, Viodisha, Shadol,  , Bhopal]\n",
            "Name    [Oshank Agrawal, Madhavi, Sakshi Tiwari, Harsh...\n",
            "dtype: object\n"
          ]
        }
      ]
    },
    {
      "cell_type": "markdown",
      "source": [
        "**Change the index of DataFrames**"
      ],
      "metadata": {
        "id": "vo2AmuJRapZ2"
      }
    },
    {
      "cell_type": "code",
      "source": [
        "import pandas as pd\n",
        "mydataset={\"Name\":[\"Oshank\",\"Aryan\",\"Madhavi\",\"Palak\",\"Tanu\"],\"PhoneNo.\":[9638527410,1234556789,9516238470,1594872630,7534218690]}\n",
        "df=pd.DataFrame(mydataset, index=[\"entity1\",\"entity2\",\"entity3\",\"entity4\",\"entity5\"])\n",
        "print(df)"
      ],
      "metadata": {
        "colab": {
          "base_uri": "https://localhost:8080/"
        },
        "id": "lhi6J8oGQ6LA",
        "outputId": "7668d272-189e-4da8-9fcc-61cf4822072a"
      },
      "execution_count": null,
      "outputs": [
        {
          "output_type": "stream",
          "name": "stdout",
          "text": [
            "            Name    PhoneNo.\n",
            "entity1   Oshank  9638527410\n",
            "entity2    Aryan  1234556789\n",
            "entity3  Madhavi  9516238470\n",
            "entity4    Palak  1594872630\n",
            "entity5     Tanu  7534218690\n"
          ]
        }
      ]
    },
    {
      "cell_type": "markdown",
      "source": [
        "**Read Excel Files**"
      ],
      "metadata": {
        "id": "z-LXA4B-a_-s"
      }
    },
    {
      "cell_type": "code",
      "source": [
        "import pandas as pd\n",
        "df = pd.read_excel(\"/content/drive/MyDrive/AIADS Students List.xlsx\")\n",
        "print(df)"
      ],
      "metadata": {
        "id": "jFMkd7Z1c4CD",
        "colab": {
          "base_uri": "https://localhost:8080/"
        },
        "outputId": "a7f344b1-d80f-460c-8f30-320892f3a982"
      },
      "execution_count": null,
      "outputs": [
        {
          "output_type": "stream",
          "name": "stdout",
          "text": [
            "   ROLL NO.         STUDENT NAME  sgpa  3rd sem Rank  final cgpa  Final Rank\n",
            "0        18         Charu sharma  8.74             1        8.03          14\n",
            "1        36       Oshank agrawal  8.65             2        8.63           1\n",
            "2        41         Pragya sirse  8.48             3        8.54           2\n",
            "3        10         Anjali gupta  8.48             4        8.30           5\n",
            "4        61     Shree nath dangi  8.43             5        8.22           8\n",
            "..      ...                  ...   ...           ...         ...         ...\n",
            "79        8     Aman kumar singh   NaN            80         NaN          80\n",
            "80       13  Ayush kumar malviya   NaN            81         NaN          81\n",
            "81       38       Pallavi sharma   NaN            82         NaN          82\n",
            "82       58        Shivam thakre   NaN            83         NaN          83\n",
            "83       72          Tanay patle   NaN            84         NaN          84\n",
            "\n",
            "[84 rows x 6 columns]\n"
          ]
        }
      ]
    },
    {
      "cell_type": "code",
      "source": [
        "import pandas as pd\n",
        "data = pd.read_excel(\"/content/drive/MyDrive/Data/Final Course List (Jan - April 2024).xlsx\")\n",
        "print(data)"
      ],
      "metadata": {
        "colab": {
          "base_uri": "https://localhost:8080/"
        },
        "id": "gwZpCONqG8Cu",
        "outputId": "573683f4-781c-45f5-8af5-7a8a5e818aec"
      },
      "execution_count": null,
      "outputs": [
        {
          "output_type": "stream",
          "name": "stdout",
          "text": [
            "      Course ID             Discipline  \\\n",
            "0    noc24-ae01  Aerospace Engineering   \n",
            "1    noc24-ae02  Aerospace Engineering   \n",
            "2    noc24-ae03  Aerospace Engineering   \n",
            "3    noc24-ae04  Aerospace Engineering   \n",
            "4    noc24-ae05  Aerospace Engineering   \n",
            "..          ...                    ...   \n",
            "715  noc24-te03    Textile Engineering   \n",
            "716  noc24-te04    Textile Engineering   \n",
            "717  noc24-te05    Textile Engineering   \n",
            "718  noc24-te06    Textile Engineering   \n",
            "719  noc24-te07    Textile Engineering   \n",
            "\n",
            "                                           Course Name  \\\n",
            "0           Gasdynamics: Fundamentals and Applications   \n",
            "1                                      Aircraft Design   \n",
            "2                 Computational Science in Engineering   \n",
            "3    Fundamentals of Theoretical and Experimental A...   \n",
            "4              Introduction to Aircraft Control System   \n",
            "..                                                 ...   \n",
            "715       Testing of Functional and Technical Textiles   \n",
            "716             Textile Product Design and Development   \n",
            "717                           Textured Yarn Technology   \n",
            "718                           Theory of Yarn Structure   \n",
            "719                          New Spinning Technologies   \n",
            "\n",
            "                   SME Name Institute \\nCo-ordinating Institute  Duration  \\\n",
            "0      Prof. Srisha Rao M V      IISc                      IISc  12 Weeks   \n",
            "1           Prof. A.K.Ghosh      IITK                      IITK  12 weeks   \n",
            "2            Prof. Ashok De      IITK                      IITK   8 Weeks   \n",
            "3           Prof. Arnab Roy    IITKGP                    IITKGP  12 Weeks   \n",
            "4    Prof. Dipak Kumar Giri      IITK                      IITK  12 Weeks   \n",
            "..                      ...       ...                       ...       ...   \n",
            "715        Prof. Apurba Das      IITD                      IITD   8 Weeks   \n",
            "716   Prof. R Chattopadhyay      IITD                      IITD  12 Weeks   \n",
            "717        Prof. Kushal Sen      IITD                      IITD  12 Weeks   \n",
            "718       Prof. Dipayan Das      IITD                      IITD  12 Weeks   \n",
            "719   Prof. R Chattopadhyay      IITD                      IITD  12 Weeks   \n",
            "\n",
            "    Type of course Start date   End date  ... Exam Registration End date  \\\n",
            "0            Rerun 2024-01-22 2024-04-12  ...                 2024-02-16   \n",
            "1            Rerun 2024-01-22 2024-04-12  ...                 2024-02-16   \n",
            "2            Rerun 2024-01-22 2024-03-15  ...                 2024-02-16   \n",
            "3            Rerun 2024-01-22 2024-04-12  ...                 2024-02-16   \n",
            "4              New 2024-01-22 2024-04-12  ...                 2024-02-16   \n",
            "..             ...        ...        ...  ...                        ...   \n",
            "715          Rerun 2024-01-22 2024-03-15  ...                 2024-02-16   \n",
            "716          Rerun 2024-01-22 2024-04-12  ...                 2024-02-16   \n",
            "717          Rerun 2024-01-22 2024-04-12  ...                 2024-02-16   \n",
            "718          Rerun 2024-01-22 2024-04-12  ...                 2024-02-16   \n",
            "719          Rerun 2024-01-22 2024-04-12  ...                 2024-02-16   \n",
            "\n",
            "     UG/PG  Core/Elective  FDP Applicable NPTEL Domain  \\\n",
            "0    UG/PG       Elective  Yes                     NaN   \n",
            "1    UG/PG           Core  Yes        Flight Mechanics   \n",
            "2    UG/PG  Core/Elective  Yes                     NaN   \n",
            "3    UG/PG           Core  Yes                     NaN   \n",
            "4    UG/PG           Core  Yes                     NaN   \n",
            "..     ...            ...  ...                     ...   \n",
            "715  UG/PG       Elective  Yes                     NaN   \n",
            "716  UG/PG       Elective  Yes                     NaN   \n",
            "717  UG/PG       Elective  Yes                     NaN   \n",
            "718     UG       Elective  Yes                     NaN   \n",
            "719  UG/PG           Core  Yes                     NaN   \n",
            "\n",
            "                         Click here to Join the course  \\\n",
            "0    https://onlinecourses.nptel.ac.in/noc24_ae01/p...   \n",
            "1    https://onlinecourses.nptel.ac.in/noc24_ae02/p...   \n",
            "2    https://onlinecourses.nptel.ac.in/noc24_ae03/p...   \n",
            "3    https://onlinecourses.nptel.ac.in/noc24_ae04/p...   \n",
            "4    https://onlinecourses.nptel.ac.in/noc24_ae05/p...   \n",
            "..                                                 ...   \n",
            "715  https://onlinecourses.nptel.ac.in/noc24_te03/p...   \n",
            "716  https://onlinecourses.nptel.ac.in/noc24_te04/p...   \n",
            "717  https://onlinecourses.nptel.ac.in/noc24_te05/p...   \n",
            "718  https://onlinecourses.nptel.ac.in/noc24_te06/p...   \n",
            "719  https://onlinecourses.nptel.ac.in/noc24_te07/p...   \n",
            "\n",
            "                                        Old course URL Course ID.1  \\\n",
            "0    https://onlinecourses.nptel.ac.in/noc22_ae05/p...  noc24_ae01   \n",
            "1    https://onlinecourses.nptel.ac.in/noc23_ae01/p...  noc24_ae02   \n",
            "2    https://onlinecourses.nptel.ac.in/noc23_ae04/p...  noc24_ae03   \n",
            "3    https://onlinecourses.nptel.ac.in/noc23_ae06/p...  noc24_ae04   \n",
            "4                                                  NaN  noc24_ae05   \n",
            "..                                                 ...         ...   \n",
            "715  https://onlinecourses.nptel.ac.in/noc23_te02/p...  noc24_te03   \n",
            "716  https://onlinecourses.nptel.ac.in/noc23_te06/p...  noc24_te04   \n",
            "717  https://onlinecourses.nptel.ac.in/noc23_te05/p...  noc24_te05   \n",
            "718  https://onlinecourses.nptel.ac.in/noc23_te03/p...  noc24_te06   \n",
            "719  https://onlinecourses.nptel.ac.in/noc23_te07/p...  noc24_te07   \n",
            "\n",
            "                                  NPTEL URL  \\\n",
            "0    https://nptel.ac.in/courses/101108086/   \n",
            "1     https://nptel.ac.in/courses/101104069   \n",
            "2     https://nptel.ac.in/courses/101104086   \n",
            "3     https://nptel.ac.in/courses/101105088   \n",
            "4     https://nptel.ac.in/courses/101104330   \n",
            "..                                      ...   \n",
            "715   https://nptel.ac.in/courses/116102050   \n",
            "716   https://nptel.ac.in/courses/116102058   \n",
            "717   https://nptel.ac.in/courses/116102053   \n",
            "718   https://nptel.ac.in/courses/116102051   \n",
            "719   https://nptel.ac.in/courses/116102059   \n",
            "\n",
            "                                NPTEL URL.1  \n",
            "0    https://nptel.ac.in/courses/101108086/  \n",
            "1     https://nptel.ac.in/courses/101104069  \n",
            "2     https://nptel.ac.in/courses/101104086  \n",
            "3     https://nptel.ac.in/courses/101105088  \n",
            "4     https://nptel.ac.in/courses/101104330  \n",
            "..                                      ...  \n",
            "715   https://nptel.ac.in/courses/116102050  \n",
            "716   https://nptel.ac.in/courses/116102058  \n",
            "717   https://nptel.ac.in/courses/116102053  \n",
            "718   https://nptel.ac.in/courses/116102051  \n",
            "719   https://nptel.ac.in/courses/116102059  \n",
            "\n",
            "[720 rows x 22 columns]\n"
          ]
        }
      ]
    },
    {
      "cell_type": "markdown",
      "source": [
        "**Create DataFrame by passing the Dictonary to the DataFrame() function**"
      ],
      "metadata": {
        "id": "-jjBbQtXxX1T"
      }
    },
    {
      "cell_type": "code",
      "source": [
        "import pandas as pd\n",
        "d={'name':[1,2,3,4,5],'class':[6,7,8,9,10],'roll':[11,12,13,14,15]}\n",
        "df=pd.DataFrame(d)\n",
        "print(df)"
      ],
      "metadata": {
        "colab": {
          "base_uri": "https://localhost:8080/"
        },
        "id": "5zIbGjtmiyNp",
        "outputId": "bbdb9b80-6413-4817-febf-00e68113ac31"
      },
      "execution_count": null,
      "outputs": [
        {
          "output_type": "stream",
          "name": "stdout",
          "text": [
            "   name  class  roll\n",
            "0     1      6    11\n",
            "1     2      7    12\n",
            "2     3      8    13\n",
            "3     4      9    14\n",
            "4     5     10    15\n"
          ]
        }
      ]
    },
    {
      "cell_type": "markdown",
      "source": [
        "In this method column name is automatically set from the dictonary **Keys** act as the column name and **Values** act as the data of the DataFrame."
      ],
      "metadata": {
        "id": "R9xWJSktyLeT"
      }
    },
    {
      "cell_type": "code",
      "source": [
        "import pandas as pd\n",
        "d={\"Name\":[\"Oshank\",\"Aryan\",\"Madhavi\",\"Palak\",\"Tanu\"],\"PhoneNo.\":[9638527410,1234556789,9516238470,1594872630,7534218690],'col1':[1,2,3,4,5],'col2':[6,7,8,9,10],'col3':[11,12,13,14,15]}\n",
        "df=pd.DataFrame(data=d)\n",
        "print(df)"
      ],
      "metadata": {
        "colab": {
          "base_uri": "https://localhost:8080/"
        },
        "id": "qMxd9xCVh-Og",
        "outputId": "ada21aac-46e5-41dd-e048-c7428b9abca3"
      },
      "execution_count": null,
      "outputs": [
        {
          "output_type": "stream",
          "name": "stdout",
          "text": [
            "      Name    PhoneNo.  col1  col2  col3\n",
            "0   Oshank  9638527410     1     6    11\n",
            "1    Aryan  1234556789     2     7    12\n",
            "2  Madhavi  9516238470     3     8    13\n",
            "3    Palak  1594872630     4     9    14\n",
            "4     Tanu  7534218690     5    10    15\n"
          ]
        }
      ]
    },
    {
      "cell_type": "markdown",
      "source": [
        "**Create DataFrame by passing the tuple to the DataFrame() function**\n",
        "\n",
        "In this method you have to define Columns name explicitely because tuple does not have key:value pair as dictonary."
      ],
      "metadata": {
        "id": "Tdn-NvS7x0Wt"
      }
    },
    {
      "cell_type": "code",
      "source": [
        "import pandas as pd\n",
        "\n",
        "# List of Tuples\n",
        "employees = [('Stuti', 28, 'Varanasi', 20000),('Saumya', 32, 'Delhi', 25000),('Aaditya', 25, 'Mumbai', 40000),('Saumya', 32, 'Delhi', 35000),('Saumya', 32, 'Delhi', 30000),('Saumya', 32, 'Mumbai', 20000),('Aaditya', 40, 'Dehradun', 24000),('Seema', 32, 'Delhi', 70000)]\n",
        "\n",
        "# Create a DataFrame object from list\n",
        "df = pd.DataFrame(employees,columns =['Name', 'Age','City', 'Salary'])\n",
        "\n",
        "# Show the dataframe\n",
        "print(df)"
      ],
      "metadata": {
        "colab": {
          "base_uri": "https://localhost:8080/"
        },
        "id": "2U-PVDVOj-LU",
        "outputId": "7bca43c7-a45f-45b4-f690-010f097bd4e2"
      },
      "execution_count": null,
      "outputs": [
        {
          "output_type": "stream",
          "name": "stdout",
          "text": [
            "      Name  Age      City  Salary\n",
            "0    Stuti   28  Varanasi   20000\n",
            "1   Saumya   32     Delhi   25000\n",
            "2  Aaditya   25    Mumbai   40000\n",
            "3   Saumya   32     Delhi   35000\n",
            "4   Saumya   32     Delhi   30000\n",
            "5   Saumya   32    Mumbai   20000\n",
            "6  Aaditya   40  Dehradun   24000\n",
            "7    Seema   32     Delhi   70000\n"
          ]
        }
      ]
    },
    {
      "cell_type": "markdown",
      "source": [
        "**Creating CSV File**\n"
      ],
      "metadata": {
        "id": "5yrkh74oEuMV"
      }
    },
    {
      "cell_type": "code",
      "source": [
        "import csv\n",
        "# Fields name\n",
        "fields = [\"Name\",\"Branch\",\"year\",\"CGPA\"]\n",
        "\n",
        "# Data rows of the file\n",
        "rows = [[\"Oshank Agrawal\",\"AIADS\",2,8.63],[\"Madhavi\",\"AIADS\",2,7.5],[\"Sakshi Tiwari\",\"AIADS\",2,7.6],[\"Prince Kumar Gatte\",\"CSE BCT\",2,7.10],[\"Harshraj Ray\",\"AIADS\",2,8.1],[\"Abhishek Shristava\",\"AIADS\",2,8.0]]\n",
        "\n",
        "# Name of the file\n",
        "filename = \"Student_Record.csv\"\n",
        "\n",
        "# open the file for writing\n",
        "with open (\"Student_Record.csv\", mode=\"w\") as csvfile:\n",
        "\n",
        "  # Creating the file object\n",
        "  csvwriter = csv.writer(csvfile)\n",
        "\n",
        "  # Writing the name of fields\n",
        "  csvwriter.writerow(fields)\n",
        "\n",
        "  # Writing the data in the file\n",
        "  csvwriter.writerows(rows)\n",
        "\n",
        "# Close the file\n",
        "csvfile.close()\n",
        "\n",
        "# Open the file for reading\n",
        "with open(\"Student_Record.csv\", mode=\"r\") as file:\n",
        "\n",
        "  # Reading the file\n",
        "  files = csv.reader(file)\n",
        "\n",
        "  # Displaying the content of the file\n",
        "  for lines in files:\n",
        "    print(lines)"
      ],
      "metadata": {
        "colab": {
          "base_uri": "https://localhost:8080/"
        },
        "id": "AS3Z6jXAEzMQ",
        "outputId": "7aa2605e-bdd3-4a66-d94e-62888ca939ab"
      },
      "execution_count": null,
      "outputs": [
        {
          "output_type": "stream",
          "name": "stdout",
          "text": [
            "['Name', 'Branch', 'year', 'CGPA']\n",
            "['Oshank Agrawal', 'AIADS', '2', '8.63']\n",
            "['Madhavi', 'AIADS', '2', '7.5']\n",
            "['Sakshi Tiwari', 'AIADS', '2', '7.6']\n",
            "['Prince Kumar Gatte', 'CSE BCT', '2', '7.1']\n",
            "['Harshraj Ray', 'AIADS', '2', '8.1']\n",
            "['Abhishek Shristava', 'AIADS', '2', '8.0']\n"
          ]
        }
      ]
    },
    {
      "cell_type": "markdown",
      "source": [
        "**Load CSV file into the DataFrame**"
      ],
      "metadata": {
        "id": "aizVDQ5VE4he"
      }
    },
    {
      "cell_type": "code",
      "source": [
        "import pandas as pd\n",
        "df = pd.read_csv(\"Student_Record.csv\")\n",
        "print(df)"
      ],
      "metadata": {
        "colab": {
          "base_uri": "https://localhost:8080/"
        },
        "id": "iD3-KpRbE-tJ",
        "outputId": "a6f5b385-1f95-460d-91df-dfe3ffa2b8fd"
      },
      "execution_count": null,
      "outputs": [
        {
          "output_type": "stream",
          "name": "stdout",
          "text": [
            "                 Name   Branch  year  CGPA\n",
            "0      Oshank Agrawal    AIADS     2  8.63\n",
            "1             Madhavi    AIADS     2  7.50\n",
            "2       Sakshi Tiwari    AIADS     2  7.60\n",
            "3  Prince Kumar Gatte  CSE BCT     2  7.10\n",
            "4        Harshraj Ray    AIADS     2  8.10\n",
            "5  Abhishek Shristava    AIADS     2  8.00\n"
          ]
        }
      ]
    },
    {
      "cell_type": "code",
      "source": [
        "import pandas as pd\n",
        "df = pd.read_csv(\"/content/drive/MyDrive/Data/CSV File.csv\")\n",
        "print(df)"
      ],
      "metadata": {
        "colab": {
          "base_uri": "https://localhost:8080/"
        },
        "id": "CESsU5hrIICt",
        "outputId": "bcfa3d03-29d9-45a6-d647-628ffdd79450"
      },
      "execution_count": null,
      "outputs": [
        {
          "output_type": "stream",
          "name": "stdout",
          "text": [
            "      Course ID             Discipline  \\\n",
            "0    noc24-ae01  Aerospace Engineering   \n",
            "1    noc24-ae02  Aerospace Engineering   \n",
            "2    noc24-ae03  Aerospace Engineering   \n",
            "3    noc24-ae04  Aerospace Engineering   \n",
            "4    noc24-ae05  Aerospace Engineering   \n",
            "..          ...                    ...   \n",
            "715  noc24-te03    Textile Engineering   \n",
            "716  noc24-te04    Textile Engineering   \n",
            "717  noc24-te05    Textile Engineering   \n",
            "718  noc24-te06    Textile Engineering   \n",
            "719  noc24-te07    Textile Engineering   \n",
            "\n",
            "                                           Course Name  \\\n",
            "0           Gasdynamics: Fundamentals and Applications   \n",
            "1                                      Aircraft Design   \n",
            "2                 Computational Science in Engineering   \n",
            "3    Fundamentals of Theoretical and Experimental A...   \n",
            "4              Introduction to Aircraft Control System   \n",
            "..                                                 ...   \n",
            "715       Testing of Functional and Technical Textiles   \n",
            "716             Textile Product Design and Development   \n",
            "717                           Textured Yarn Technology   \n",
            "718                           Theory of Yarn Structure   \n",
            "719                          New Spinning Technologies   \n",
            "\n",
            "                   SME Name Institute \\nCo-ordinating Institute  Duration  \\\n",
            "0      Prof. Srisha Rao M V      IISc                      IISc  12 Weeks   \n",
            "1           Prof. A.K.Ghosh      IITK                      IITK  12 weeks   \n",
            "2            Prof. Ashok De      IITK                      IITK   8 Weeks   \n",
            "3           Prof. Arnab Roy    IITKGP                    IITKGP  12 Weeks   \n",
            "4    Prof. Dipak Kumar Giri      IITK                      IITK  12 Weeks   \n",
            "..                      ...       ...                       ...       ...   \n",
            "715        Prof. Apurba Das      IITD                      IITD   8 Weeks   \n",
            "716   Prof. R Chattopadhyay      IITD                      IITD  12 Weeks   \n",
            "717        Prof. Kushal Sen      IITD                      IITD  12 Weeks   \n",
            "718       Prof. Dipayan Das      IITD                      IITD  12 Weeks   \n",
            "719   Prof. R Chattopadhyay      IITD                      IITD  12 Weeks   \n",
            "\n",
            "    Type of course    Start date      End date     Exam date  \\\n",
            "0            Rerun  Jan 22, 2024  Apr 12, 2024  Apr 27, 2024   \n",
            "1            Rerun  Jan 22, 2024  Apr 12, 2024  Apr 27, 2024   \n",
            "2            Rerun  Jan 22, 2024  Mar 15, 2024  Mar 24, 2024   \n",
            "3            Rerun  Jan 22, 2024  Apr 12, 2024  Apr 27, 2024   \n",
            "4              New  Jan 22, 2024  Apr 12, 2024  Apr 28, 2024   \n",
            "..             ...           ...           ...           ...   \n",
            "715          Rerun  Jan 22, 2024  Mar 15, 2024  Mar 24, 2024   \n",
            "716          Rerun  Jan 22, 2024  Apr 12, 2024  Apr 20, 2024   \n",
            "717          Rerun  Jan 22, 2024  Apr 12, 2024  Apr 27, 2024   \n",
            "718          Rerun  Jan 22, 2024  Apr 12, 2024  Apr 27, 2024   \n",
            "719          Rerun  Jan 22, 2024  Apr 12, 2024  Apr 27, 2024   \n",
            "\n",
            "    Enrollment End date Exam Registration End date  UG/PG  Core/Elective  FDP  \\\n",
            "0          Jan 29, 2024               Feb 16, 2024  UG/PG       Elective  Yes   \n",
            "1          Jan 29, 2024               Feb 16, 2024  UG/PG           Core  Yes   \n",
            "2          Jan 29, 2024               Feb 16, 2024  UG/PG  Core/Elective  Yes   \n",
            "3          Jan 29, 2024               Feb 16, 2024  UG/PG           Core  Yes   \n",
            "4          Jan 29, 2024               Feb 16, 2024  UG/PG           Core  Yes   \n",
            "..                  ...                        ...    ...            ...  ...   \n",
            "715        Jan 29, 2024               Feb 16, 2024  UG/PG       Elective  Yes   \n",
            "716        Jan 29, 2024               Feb 16, 2024  UG/PG       Elective  Yes   \n",
            "717        Jan 29, 2024               Feb 16, 2024  UG/PG       Elective  Yes   \n",
            "718        Jan 29, 2024               Feb 16, 2024     UG       Elective  Yes   \n",
            "719        Jan 29, 2024               Feb 16, 2024  UG/PG           Core  Yes   \n",
            "\n",
            "    Applicable NPTEL Domain Course ID.1  \n",
            "0                       NaN  noc24_ae01  \n",
            "1          Flight Mechanics  noc24_ae02  \n",
            "2                       NaN  noc24_ae03  \n",
            "3                       NaN  noc24_ae04  \n",
            "4                       NaN  noc24_ae05  \n",
            "..                      ...         ...  \n",
            "715                     NaN  noc24_te03  \n",
            "716                     NaN  noc24_te04  \n",
            "717                     NaN  noc24_te05  \n",
            "718                     NaN  noc24_te06  \n",
            "719                     NaN  noc24_te07  \n",
            "\n",
            "[720 rows x 18 columns]\n"
          ]
        }
      ]
    },
    {
      "cell_type": "markdown",
      "source": [
        "As you can see only top 5 and bottom 5 rows is displayed.\n",
        "\n",
        "You can change the maximum rows number with the same statement.\n",
        "\n",
        "Increase the maximum rows number of rows to display the entire DataFrame:"
      ],
      "metadata": {
        "id": "fyx260smJK75"
      }
    },
    {
      "cell_type": "code",
      "source": [
        "import pandas as pd\n",
        "pd.options.display.max_rows=9999\n",
        "df = pd.read_csv(\"/content/drive/MyDrive/Data/CSV File.csv\")\n",
        "print(df[['Discipline','Course Name']])"
      ],
      "metadata": {
        "colab": {
          "base_uri": "https://localhost:8080/"
        },
        "id": "GoC7ii-9KAKn",
        "outputId": "14d64c2a-ec01-4d8c-f958-8f94657ff9c0"
      },
      "execution_count": null,
      "outputs": [
        {
          "output_type": "stream",
          "name": "stdout",
          "text": [
            "                                  Discipline  \\\n",
            "0                      Aerospace Engineering   \n",
            "1                      Aerospace Engineering   \n",
            "2                      Aerospace Engineering   \n",
            "3                      Aerospace Engineering   \n",
            "4                      Aerospace Engineering   \n",
            "5                      Aerospace Engineering   \n",
            "6                      Aerospace Engineering   \n",
            "7                      Aerospace Engineering   \n",
            "8                      Aerospace Engineering   \n",
            "9                      Aerospace Engineering   \n",
            "10                     Aerospace Engineering   \n",
            "11                     Aerospace Engineering   \n",
            "12                   Agriculture Engineering   \n",
            "13                   Agriculture Engineering   \n",
            "14                   Agriculture Engineering   \n",
            "15                   Agriculture Engineering   \n",
            "16                   Agriculture Engineering   \n",
            "17                   Agriculture Engineering   \n",
            "18                   Agriculture Engineering   \n",
            "19                   Agriculture Engineering   \n",
            "20                 Architecture and Planning   \n",
            "21                 Architecture and Planning   \n",
            "22                 Architecture and Planning   \n",
            "23                 Architecture and Planning   \n",
            "24                 Architecture and Planning   \n",
            "25                 Architecture and Planning   \n",
            "26                 Architecture and Planning   \n",
            "27                 Architecture and Planning   \n",
            "28          Biotechnology and Bioengineering   \n",
            "29          Biotechnology and Bioengineering   \n",
            "30          Biotechnology and Bioengineering   \n",
            "31          Biotechnology and Bioengineering   \n",
            "32          Biotechnology and Bioengineering   \n",
            "33          Biotechnology and Bioengineering   \n",
            "34          Biotechnology and Bioengineering   \n",
            "35          Biotechnology and Bioengineering   \n",
            "36          Biotechnology and Bioengineering   \n",
            "37          Biotechnology and Bioengineering   \n",
            "38          Biotechnology and Bioengineering   \n",
            "39          Biotechnology and Bioengineering   \n",
            "40          Biotechnology and Bioengineering   \n",
            "41          Biotechnology and Bioengineering   \n",
            "42          Biotechnology and Bioengineering   \n",
            "43          Biotechnology and Bioengineering   \n",
            "44          Biotechnology and Bioengineering   \n",
            "45          Biotechnology and Bioengineering   \n",
            "46          Biotechnology and Bioengineering   \n",
            "47          Biotechnology and Bioengineering   \n",
            "48          Biotechnology and Bioengineering   \n",
            "49          Biotechnology and Bioengineering   \n",
            "50          Biotechnology and Bioengineering   \n",
            "51          Biotechnology and Bioengineering   \n",
            "52          Biotechnology and Bioengineering   \n",
            "53          Biotechnology and Bioengineering   \n",
            "54          Biotechnology and Bioengineering   \n",
            "55          Biotechnology and Bioengineering   \n",
            "56          Biotechnology and Bioengineering   \n",
            "57          Biotechnology and Bioengineering   \n",
            "58          Biotechnology and Bioengineering   \n",
            "59          Biotechnology and Bioengineering   \n",
            "60          Biotechnology and Bioengineering   \n",
            "61          Biotechnology and Bioengineering   \n",
            "62          Biotechnology and Bioengineering   \n",
            "63          Biotechnology and Bioengineering   \n",
            "64          Biotechnology and Bioengineering   \n",
            "65                         Civil Engineering   \n",
            "66                         Civil Engineering   \n",
            "67                         Civil Engineering   \n",
            "68                         Civil Engineering   \n",
            "69                         Civil Engineering   \n",
            "70                         Civil Engineering   \n",
            "71                         Civil Engineering   \n",
            "72                         Civil Engineering   \n",
            "73                         Civil Engineering   \n",
            "74                         Civil Engineering   \n",
            "75                         Civil Engineering   \n",
            "76                         Civil Engineering   \n",
            "77                         Civil Engineering   \n",
            "78                         Civil Engineering   \n",
            "79                         Civil Engineering   \n",
            "80                         Civil Engineering   \n",
            "81                         Civil Engineering   \n",
            "82                         Civil Engineering   \n",
            "83                         Civil Engineering   \n",
            "84                         Civil Engineering   \n",
            "85                         Civil Engineering   \n",
            "86                         Civil Engineering   \n",
            "87                         Civil Engineering   \n",
            "88                         Civil Engineering   \n",
            "89                         Civil Engineering   \n",
            "90                         Civil Engineering   \n",
            "91                         Civil Engineering   \n",
            "92                         Civil Engineering   \n",
            "93                         Civil Engineering   \n",
            "94                         Civil Engineering   \n",
            "95                         Civil Engineering   \n",
            "96                         Civil Engineering   \n",
            "97                         Civil Engineering   \n",
            "98                         Civil Engineering   \n",
            "99                         Civil Engineering   \n",
            "100                        Civil Engineering   \n",
            "101                        Civil Engineering   \n",
            "102                        Civil Engineering   \n",
            "103                        Civil Engineering   \n",
            "104                        Civil Engineering   \n",
            "105                        Civil Engineering   \n",
            "106                        Civil Engineering   \n",
            "107                        Civil Engineering   \n",
            "108                        Civil Engineering   \n",
            "109                        Civil Engineering   \n",
            "110                        Civil Engineering   \n",
            "111                        Civil Engineering   \n",
            "112                           Earth Sciences   \n",
            "113                           Earth Sciences   \n",
            "114                           Earth Sciences   \n",
            "115                           Earth Sciences   \n",
            "116                        Civil Engineering   \n",
            "117                        Civil Engineering   \n",
            "118                        Civil Engineering   \n",
            "119                     Chemical Engineering   \n",
            "120                     Chemical Engineering   \n",
            "121                     Chemical Engineering   \n",
            "122                     Chemical Engineering   \n",
            "123                     Chemical Engineering   \n",
            "124                     Chemical Engineering   \n",
            "125                     Chemical Engineering   \n",
            "126                     Chemical Engineering   \n",
            "127                     Chemical Engineering   \n",
            "128                     Chemical Engineering   \n",
            "129                     Chemical Engineering   \n",
            "130                     Chemical Engineering   \n",
            "131                     Chemical Engineering   \n",
            "132                     Chemical Engineering   \n",
            "133                     Chemical Engineering   \n",
            "134                     Chemical Engineering   \n",
            "135                     Chemical Engineering   \n",
            "136                     Chemical Engineering   \n",
            "137                     Chemical Engineering   \n",
            "138                     Chemical Engineering   \n",
            "139                     Chemical Engineering   \n",
            "140                     Chemical Engineering   \n",
            "141                     Chemical Engineering   \n",
            "142                     Chemical Engineering   \n",
            "143                     Chemical Engineering   \n",
            "144                     Chemical Engineering   \n",
            "145                     Chemical Engineering   \n",
            "146                     Chemical Engineering   \n",
            "147                     Chemical Engineering   \n",
            "148                     Chemical Engineering   \n",
            "149                     Chemical Engineering   \n",
            "150                     Chemical Engineering   \n",
            "151                     Chemical Engineering   \n",
            "152                     Chemical Engineering   \n",
            "153                     Chemical Engineering   \n",
            "154                     Chemical Engineering   \n",
            "155         Computer Science and Engineering   \n",
            "156         Computer Science and Engineering   \n",
            "157         Computer Science and Engineering   \n",
            "158         Computer Science and Engineering   \n",
            "159         Computer Science and Engineering   \n",
            "160         Computer Science and Engineering   \n",
            "161         Computer Science and Engineering   \n",
            "162         Computer Science and Engineering   \n",
            "163         Computer Science and Engineering   \n",
            "164         Computer Science and Engineering   \n",
            "165         Computer Science and Engineering   \n",
            "166         Computer Science and Engineering   \n",
            "167         Computer Science and Engineering   \n",
            "168         Computer Science and Engineering   \n",
            "169         Computer Science and Engineering   \n",
            "170         Computer Science and Engineering   \n",
            "171         Computer Science and Engineering   \n",
            "172         Computer Science and Engineering   \n",
            "173         Computer Science and Engineering   \n",
            "174         Computer Science and Engineering   \n",
            "175         Computer Science and Engineering   \n",
            "176         Computer Science and Engineering   \n",
            "177         Computer Science and Engineering   \n",
            "178         Computer Science and Engineering   \n",
            "179         Computer Science and Engineering   \n",
            "180         Computer Science and Engineering   \n",
            "181         Computer Science and Engineering   \n",
            "182         Computer Science and Engineering   \n",
            "183         Computer Science and Engineering   \n",
            "184         Computer Science and Engineering   \n",
            "185         Computer Science and Engineering   \n",
            "186         Computer Science and Engineering   \n",
            "187         Computer Science and Engineering   \n",
            "188         Computer Science and Engineering   \n",
            "189         Computer Science and Engineering   \n",
            "190         Computer Science and Engineering   \n",
            "191         Computer Science and Engineering   \n",
            "192         Computer Science and Engineering   \n",
            "193         Computer Science and Engineering   \n",
            "194         Computer Science and Engineering   \n",
            "195         Computer Science and Engineering   \n",
            "196         Computer Science and Engineering   \n",
            "197         Computer Science and Engineering   \n",
            "198         Computer Science and Engineering   \n",
            "199         Computer Science and Engineering   \n",
            "200         Computer Science and Engineering   \n",
            "201         Computer Science and Engineering   \n",
            "202         Computer Science and Engineering   \n",
            "203         Computer Science and Engineering   \n",
            "204         Computer Science and Engineering   \n",
            "205         Computer Science and Engineering   \n",
            "206         Computer Science and Engineering   \n",
            "207         Computer Science and Engineering   \n",
            "208         Computer Science and Engineering   \n",
            "209         Computer Science and Engineering   \n",
            "210         Computer Science and Engineering   \n",
            "211         Computer Science and Engineering   \n",
            "212         Computer Science and Engineering   \n",
            "213         Computer Science and Engineering   \n",
            "214         Computer Science and Engineering   \n",
            "215         Computer Science and Engineering   \n",
            "216         Computer Science and Engineering   \n",
            "217         Computer Science and Engineering   \n",
            "218         Computer Science and Engineering   \n",
            "219         Computer Science and Engineering   \n",
            "220         Computer Science and Engineering   \n",
            "221                                Chemistry   \n",
            "222                                Chemistry   \n",
            "223                                Chemistry   \n",
            "224                                Chemistry   \n",
            "225                                Chemistry   \n",
            "226                                Chemistry   \n",
            "227                                Chemistry   \n",
            "228                                Chemistry   \n",
            "229                                Chemistry   \n",
            "230                                Chemistry   \n",
            "231                                Chemistry   \n",
            "232                                Chemistry   \n",
            "233                                Chemistry   \n",
            "234                                Chemistry   \n",
            "235                                Chemistry   \n",
            "236                                Chemistry   \n",
            "237                                Chemistry   \n",
            "238                                Chemistry   \n",
            "239                                Chemistry   \n",
            "240                                Chemistry   \n",
            "241                                Chemistry   \n",
            "242                                Chemistry   \n",
            "243                                Chemistry   \n",
            "244                                Chemistry   \n",
            "245                                Chemistry   \n",
            "246                                Chemistry   \n",
            "247                                Chemistry   \n",
            "248                                Chemistry   \n",
            "249                                Chemistry   \n",
            "250                                Chemistry   \n",
            "251                                Chemistry   \n",
            "252                                Chemistry   \n",
            "253                                Chemistry   \n",
            "254           Architecture, Civil and Design   \n",
            "255                       Design Engineering   \n",
            "256                       Design Engineering   \n",
            "257                       Design Engineering   \n",
            "258                       Design Engineering   \n",
            "259                       Design Engineering   \n",
            "260                       Design Engineering   \n",
            "261                       Design Engineering   \n",
            "262                        Economic Sciences   \n",
            "263                        Economic Sciences   \n",
            "264                        Economic Sciences   \n",
            "265                        Economic Sciences   \n",
            "266                        Economic Sciences   \n",
            "267                        Economic Sciences   \n",
            "268                        Economic Sciences   \n",
            "269                        Economic Sciences   \n",
            "270                        Multidisciplinary   \n",
            "271   Electrical and Electronics Engineering   \n",
            "272   Electrical and Electronics Engineering   \n",
            "273   Electrical and Electronics Engineering   \n",
            "274   Electrical and Electronics Engineering   \n",
            "275   Electrical and Electronics Engineering   \n",
            "276   Electrical and Electronics Engineering   \n",
            "277   Electrical and Electronics Engineering   \n",
            "278   Electrical and Electronics Engineering   \n",
            "279   Electrical and Electronics Engineering   \n",
            "280   Electrical and Electronics Engineering   \n",
            "281   Electrical and Electronics Engineering   \n",
            "282   Electrical and Electronics Engineering   \n",
            "283   Electrical and Electronics Engineering   \n",
            "284   Electrical and Electronics Engineering   \n",
            "285   Electrical and Electronics Engineering   \n",
            "286   Electrical and Electronics Engineering   \n",
            "287   Electrical and Electronics Engineering   \n",
            "288   Electrical and Electronics Engineering   \n",
            "289   Electrical and Electronics Engineering   \n",
            "290   Electrical and Electronics Engineering   \n",
            "291   Electrical and Electronics Engineering   \n",
            "292   Electrical and Electronics Engineering   \n",
            "293   Electrical and Electronics Engineering   \n",
            "294   Electrical and Electronics Engineering   \n",
            "295   Electrical and Electronics Engineering   \n",
            "296   Electrical and Electronics Engineering   \n",
            "297   Electrical and Electronics Engineering   \n",
            "298   Electrical and Electronics Engineering   \n",
            "299   Electrical and Electronics Engineering   \n",
            "300   Electrical and Electronics Engineering   \n",
            "301   Electrical and Electronics Engineering   \n",
            "302   Electrical and Electronics Engineering   \n",
            "303   Electrical and Electronics Engineering   \n",
            "304   Electrical and Electronics Engineering   \n",
            "305   Electrical and Electronics Engineering   \n",
            "306   Electrical and Electronics Engineering   \n",
            "307   Electrical and Electronics Engineering   \n",
            "308   Electrical and Electronics Engineering   \n",
            "309   Electrical and Electronics Engineering   \n",
            "310   Electrical and Electronics Engineering   \n",
            "311   Electrical and Electronics Engineering   \n",
            "312   Electrical and Electronics Engineering   \n",
            "313   Electrical and Electronics Engineering   \n",
            "314   Electrical and Electronics Engineering   \n",
            "315   Electrical and Electronics Engineering   \n",
            "316   Electrical and Electronics Engineering   \n",
            "317   Electrical and Electronics Engineering   \n",
            "318   Electrical and Electronics Engineering   \n",
            "319   Electrical and Electronics Engineering   \n",
            "320   Electrical and Electronics Engineering   \n",
            "321   Electrical and Electronics Engineering   \n",
            "322   Electrical and Electronics Engineering   \n",
            "323   Electrical and Electronics Engineering   \n",
            "324   Electrical and Electronics Engineering   \n",
            "325   Electrical and Electronics Engineering   \n",
            "326   Electrical and Electronics Engineering   \n",
            "327   Electrical and Electronics Engineering   \n",
            "328   Electrical and Electronics Engineering   \n",
            "329   Electrical and Electronics Engineering   \n",
            "330   Electrical and Electronics Engineering   \n",
            "331   Electrical and Electronics Engineering   \n",
            "332   Electrical and Electronics Engineering   \n",
            "333   Electrical and Electronics Engineering   \n",
            "334   Electrical and Electronics Engineering   \n",
            "335   Electrical and Electronics Engineering   \n",
            "336   Electrical and Electronics Engineering   \n",
            "337   Electrical and Electronics Engineering   \n",
            "338   Electrical and Electronics Engineering   \n",
            "339   Electrical and Electronics Engineering   \n",
            "340   Electrical and Electronics Engineering   \n",
            "341   Electrical and Electronics Engineering   \n",
            "342   Electrical and Electronics Engineering   \n",
            "343   Electrical and Electronics Engineering   \n",
            "344   Electrical and Electronics Engineering   \n",
            "345   Electrical and Electronics Engineering   \n",
            "346   Electrical and Electronics Engineering   \n",
            "347                        Multidisciplinary   \n",
            "348                        Multidisciplinary   \n",
            "349                        Multidisciplinary   \n",
            "350                        Multidisciplinary   \n",
            "351                        Multidisciplinary   \n",
            "352                        Multidisciplinary   \n",
            "353                        Multidisciplinary   \n",
            "354                        Multidisciplinary   \n",
            "355                        Multidisciplinary   \n",
            "356                        Multidisciplinary   \n",
            "357                        Multidisciplinary   \n",
            "358                        Multidisciplinary   \n",
            "359                        Multidisciplinary   \n",
            "360                        Multidisciplinary   \n",
            "361                        Multidisciplinary   \n",
            "362                        Multidisciplinary   \n",
            "363                        Multidisciplinary   \n",
            "364                        Multidisciplinary   \n",
            "365                        Multidisciplinary   \n",
            "366                        Multidisciplinary   \n",
            "367                        Multidisciplinary   \n",
            "368                        Multidisciplinary   \n",
            "369                        Multidisciplinary   \n",
            "370                        Multidisciplinary   \n",
            "371                        Multidisciplinary   \n",
            "372                        Multidisciplinary   \n",
            "373                        Multidisciplinary   \n",
            "374                        Multidisciplinary   \n",
            "375                        Multidisciplinary   \n",
            "376                        Multidisciplinary   \n",
            "377                        Multidisciplinary   \n",
            "378                        Multidisciplinary   \n",
            "379                        Multidisciplinary   \n",
            "380                        Multidisciplinary   \n",
            "381                        Multidisciplinary   \n",
            "382                        Multidisciplinary   \n",
            "383           Humanities and Social Sciences   \n",
            "384           Humanities and Social Sciences   \n",
            "385           Humanities and Social Sciences   \n",
            "386           Humanities and Social Sciences   \n",
            "387           Humanities and Social Sciences   \n",
            "388           Humanities and Social Sciences   \n",
            "389           Humanities and Social Sciences   \n",
            "390           Humanities and Social Sciences   \n",
            "391           Humanities and Social Sciences   \n",
            "392           Humanities and Social Sciences   \n",
            "393           Humanities and Social Sciences   \n",
            "394           Humanities and Social Sciences   \n",
            "395           Humanities and Social Sciences   \n",
            "396           Humanities and Social Sciences   \n",
            "397           Humanities and Social Sciences   \n",
            "398           Humanities and Social Sciences   \n",
            "399           Humanities and Social Sciences   \n",
            "400           Humanities and Social Sciences   \n",
            "401           Humanities and Social Sciences   \n",
            "402           Humanities and Social Sciences   \n",
            "403           Humanities and Social Sciences   \n",
            "404           Humanities and Social Sciences   \n",
            "405           Humanities and Social Sciences   \n",
            "406           Humanities and Social Sciences   \n",
            "407           Humanities and Social Sciences   \n",
            "408           Humanities and Social Sciences   \n",
            "409           Humanities and Social Sciences   \n",
            "410           Humanities and Social Sciences   \n",
            "411           Humanities and Social Sciences   \n",
            "412           Humanities and Social Sciences   \n",
            "413           Humanities and Social Sciences   \n",
            "414           Humanities and Social Sciences   \n",
            "415           Humanities and Social Sciences   \n",
            "416           Humanities and Social Sciences   \n",
            "417           Humanities and Social Sciences   \n",
            "418           Humanities and Social Sciences   \n",
            "419           Humanities and Social Sciences   \n",
            "420           Humanities and Social Sciences   \n",
            "421           Humanities and Social Sciences   \n",
            "422           Humanities and Social Sciences   \n",
            "423           Humanities and Social Sciences   \n",
            "424           Humanities and Social Sciences   \n",
            "425           Humanities and Social Sciences   \n",
            "426           Humanities and Social Sciences   \n",
            "427           Humanities and Social Sciences   \n",
            "428           Humanities and Social Sciences   \n",
            "429           Humanities and Social Sciences   \n",
            "430           Humanities and Social Sciences   \n",
            "431           Humanities and Social Sciences   \n",
            "432           Humanities and Social Sciences   \n",
            "433           Humanities and Social Sciences   \n",
            "434           Humanities and Social Sciences   \n",
            "435           Humanities and Social Sciences   \n",
            "436           Humanities and Social Sciences   \n",
            "437           Humanities and Social Sciences   \n",
            "438           Humanities and Social Sciences   \n",
            "439           Humanities and Social Sciences   \n",
            "440           Humanities and Social Sciences   \n",
            "441           Humanities and Social Sciences   \n",
            "442           Humanities and Social Sciences   \n",
            "443           Humanities and Social Sciences   \n",
            "444           Humanities and Social Sciences   \n",
            "445           Humanities and Social Sciences   \n",
            "446           Humanities and Social Sciences   \n",
            "447           Humanities and Social Sciences   \n",
            "448           Humanities and Social Sciences   \n",
            "449           Humanities and Social Sciences   \n",
            "450           Humanities and Social Sciences   \n",
            "451           Humanities and Social Sciences   \n",
            "452           Humanities and Social Sciences   \n",
            "453           Humanities and Social Sciences   \n",
            "454           Humanities and Social Sciences   \n",
            "455           Humanities and Social Sciences   \n",
            "456           Humanities and Social Sciences   \n",
            "457           Humanities and Social Sciences   \n",
            "458           Humanities and Social Sciences   \n",
            "459           Humanities and Social Sciences   \n",
            "460           Humanities and Social Sciences   \n",
            "461           Humanities and Social Sciences   \n",
            "462           Humanities and Social Sciences   \n",
            "463           Humanities and Social Sciences   \n",
            "464           Humanities and Social Sciences   \n",
            "465           Humanities and Social Sciences   \n",
            "466           Humanities and Social Sciences   \n",
            "467           Humanities and Social Sciences   \n",
            "468                                      Law   \n",
            "469                                      Law   \n",
            "470                                      Law   \n",
            "471                                      Law   \n",
            "472                                      Law   \n",
            "473                              Mathematics   \n",
            "474                              Mathematics   \n",
            "475                              Mathematics   \n",
            "476                              Mathematics   \n",
            "477                              Mathematics   \n",
            "478                              Mathematics   \n",
            "479                              Mathematics   \n",
            "480                              Mathematics   \n",
            "481                              Mathematics   \n",
            "482                              Mathematics   \n",
            "483                              Mathematics   \n",
            "484                              Mathematics   \n",
            "485                              Mathematics   \n",
            "486                              Mathematics   \n",
            "487                              Mathematics   \n",
            "488                              Mathematics   \n",
            "489                              Mathematics   \n",
            "490                              Mathematics   \n",
            "491                              Mathematics   \n",
            "492                              Mathematics   \n",
            "493                              Mathematics   \n",
            "494                              Mathematics   \n",
            "495                              Mathematics   \n",
            "496                              Mathematics   \n",
            "497                              Mathematics   \n",
            "498                              Mathematics   \n",
            "499                              Mathematics   \n",
            "500                              Mathematics   \n",
            "501                              Mathematics   \n",
            "502                              Mathematics   \n",
            "503                              Mathematics   \n",
            "504                              Mathematics   \n",
            "505                              Mathematics   \n",
            "506                              Mathematics   \n",
            "507                              Mathematics   \n",
            "508                              Mathematics   \n",
            "509                              Mathematics   \n",
            "510                              Mathematics   \n",
            "511                              Mathematics   \n",
            "512                              Mathematics   \n",
            "513                              Mathematics   \n",
            "514                              Mathematics   \n",
            "515                              Mathematics   \n",
            "516                              Mathematics   \n",
            "517                   Mechanical Engineering   \n",
            "518                        Applied Mechanics   \n",
            "519                   Mechanical Engineering   \n",
            "520                   Mechanical Engineering   \n",
            "521                   Mechanical Engineering   \n",
            "522                   Mechanical Engineering   \n",
            "523                   Mechanical Engineering   \n",
            "524                   Mechanical Engineering   \n",
            "525                   Mechanical Engineering   \n",
            "526                   Mechanical Engineering   \n",
            "527                   Mechanical Engineering   \n",
            "528                   Mechanical Engineering   \n",
            "529                   Mechanical Engineering   \n",
            "530                   Mechanical Engineering   \n",
            "531                   Mechanical Engineering   \n",
            "532                   Mechanical Engineering   \n",
            "533                   Mechanical Engineering   \n",
            "534                   Mechanical Engineering   \n",
            "535                   Mechanical Engineering   \n",
            "536                   Mechanical Engineering   \n",
            "537                   Mechanical Engineering   \n",
            "538                   Mechanical Engineering   \n",
            "539                   Mechanical Engineering   \n",
            "540                   Mechanical Engineering   \n",
            "541                   Mechanical Engineering   \n",
            "542                   Mechanical Engineering   \n",
            "543                   Mechanical Engineering   \n",
            "544                   Mechanical Engineering   \n",
            "545                   Mechanical Engineering   \n",
            "546                   Mechanical Engineering   \n",
            "547                   Mechanical Engineering   \n",
            "548                   Mechanical Engineering   \n",
            "549                   Mechanical Engineering   \n",
            "550                   Mechanical Engineering   \n",
            "551                   Mechanical Engineering   \n",
            "552                   Mechanical Engineering   \n",
            "553                   Mechanical Engineering   \n",
            "554                   Mechanical Engineering   \n",
            "555                   Mechanical Engineering   \n",
            "556                   Mechanical Engineering   \n",
            "557                   Mechanical Engineering   \n",
            "558                   Mechanical Engineering   \n",
            "559                   Mechanical Engineering   \n",
            "560                   Mechanical Engineering   \n",
            "561                   Mechanical Engineering   \n",
            "562                   Mechanical Engineering   \n",
            "563                   Mechanical Engineering   \n",
            "564                   Mechanical Engineering   \n",
            "565                   Mechanical Engineering   \n",
            "566                   Mechanical Engineering   \n",
            "567                   Mechanical Engineering   \n",
            "568                   Mechanical Engineering   \n",
            "569                   Mechanical Engineering   \n",
            "570                   Mechanical Engineering   \n",
            "571                   Mechanical Engineering   \n",
            "572                   Mechanical Engineering   \n",
            "573                   Mechanical Engineering   \n",
            "574                   Mechanical Engineering   \n",
            "575                   Mechanical Engineering   \n",
            "576                   Mechanical Engineering   \n",
            "577                   Mechanical Engineering   \n",
            "578                   Mechanical Engineering   \n",
            "579                   Mechanical Engineering   \n",
            "580                   Mechanical Engineering   \n",
            "581                   Mechanical Engineering   \n",
            "582                   Mechanical Engineering   \n",
            "583                   Mechanical Engineering   \n",
            "584                   Mechanical Engineering   \n",
            "585                   Mechanical Engineering   \n",
            "586                   Mechanical Engineering   \n",
            "587                   Mechanical Engineering   \n",
            "588                   Mechanical Engineering   \n",
            "589                   Mechanical Engineering   \n",
            "590                   Mechanical Engineering   \n",
            "591                   Mechanical Engineering   \n",
            "592                   Mechanical Engineering   \n",
            "593                   Mechanical Engineering   \n",
            "594                               Management   \n",
            "595                               Management   \n",
            "596                               Management   \n",
            "597                               Management   \n",
            "598                               Management   \n",
            "599                               Management   \n",
            "600                               Management   \n",
            "601                               Management   \n",
            "602                               Management   \n",
            "603                               Management   \n",
            "604                               Management   \n",
            "605                               Management   \n",
            "606                               Management   \n",
            "607                               Management   \n",
            "608                               Management   \n",
            "609                               Management   \n",
            "610                               Management   \n",
            "611                               Management   \n",
            "612                               Management   \n",
            "613                               Management   \n",
            "614                               Management   \n",
            "615                               Management   \n",
            "616                               Management   \n",
            "617                               Management   \n",
            "618                               Management   \n",
            "619                               Management   \n",
            "620                               Management   \n",
            "621                               Management   \n",
            "622                               Management   \n",
            "623                               Management   \n",
            "624                               Management   \n",
            "625                               Management   \n",
            "626                               Management   \n",
            "627                               Management   \n",
            "628                               Management   \n",
            "629                               Management   \n",
            "630                               Management   \n",
            "631                               Management   \n",
            "632                               Management   \n",
            "633                               Management   \n",
            "634                               Management   \n",
            "635                               Management   \n",
            "636                               Management   \n",
            "637                               Management   \n",
            "638                               Management   \n",
            "639                               Management   \n",
            "640                               Management   \n",
            "641                               Management   \n",
            "642                               Management   \n",
            "643                               Management   \n",
            "644                               Management   \n",
            "645                               Management   \n",
            "646                               Management   \n",
            "647                               Management   \n",
            "648                               Management   \n",
            "649                               Management   \n",
            "650                               Management   \n",
            "651                               Management   \n",
            "652                               Management   \n",
            "653                               Management   \n",
            "654                               Management   \n",
            "655                               Management   \n",
            "656                               Management   \n",
            "657                               Management   \n",
            "658                               Management   \n",
            "659                               Management   \n",
            "660                               Management   \n",
            "661                               Management   \n",
            "662  Metallurgical and Materials Engineering   \n",
            "663  Metallurgical and Materials Engineering   \n",
            "664  Metallurgical and Materials Engineering   \n",
            "665  Metallurgical and Materials Engineering   \n",
            "666  Metallurgical and Materials Engineering   \n",
            "667  Metallurgical and Materials Engineering   \n",
            "668  Metallurgical and Materials Engineering   \n",
            "669  Metallurgical and Materials Engineering   \n",
            "670  Metallurgical and Materials Engineering   \n",
            "671  Metallurgical and Materials Engineering   \n",
            "672  Metallurgical and Materials Engineering   \n",
            "673  Metallurgical and Materials Engineering   \n",
            "674  Metallurgical and Materials Engineering   \n",
            "675  Metallurgical and Materials Engineering   \n",
            "676  Metallurgical and Materials Engineering   \n",
            "677  Metallurgical and Materials Engineering   \n",
            "678  Metallurgical and Materials Engineering   \n",
            "679  Metallurgical and Materials Engineering   \n",
            "680  Metallurgical and Materials Engineering   \n",
            "681  Metallurgical and Materials Engineering   \n",
            "682  Metallurgical and Materials Engineering   \n",
            "683                       Mining Engineering   \n",
            "684  Metallurgical and Materials Engineering   \n",
            "685  Metallurgical and Materials Engineering   \n",
            "686                        Ocean Engineering   \n",
            "687                        Ocean Engineering   \n",
            "688                        Ocean Engineering   \n",
            "689                                  Physics   \n",
            "690                                  Physics   \n",
            "691                                  Physics   \n",
            "692                                  Physics   \n",
            "693                                  Physics   \n",
            "694                                  Physics   \n",
            "695                                  Physics   \n",
            "696                                  Physics   \n",
            "697                                  Physics   \n",
            "698                                  Physics   \n",
            "699                                  Physics   \n",
            "700                                  Physics   \n",
            "701                                  Physics   \n",
            "702                                  Physics   \n",
            "703                                  Physics   \n",
            "704                                  Physics   \n",
            "705                                  Physics   \n",
            "706                                  Physics   \n",
            "707                                  Physics   \n",
            "708                                  Physics   \n",
            "709                                  Physics   \n",
            "710                                  Physics   \n",
            "711                                  Physics   \n",
            "712                                  Physics   \n",
            "713                      Textile Engineering   \n",
            "714                      Textile Engineering   \n",
            "715                      Textile Engineering   \n",
            "716                      Textile Engineering   \n",
            "717                      Textile Engineering   \n",
            "718                      Textile Engineering   \n",
            "719                      Textile Engineering   \n",
            "\n",
            "                                           Course Name  \n",
            "0           Gasdynamics: Fundamentals and Applications  \n",
            "1                                      Aircraft Design  \n",
            "2                 Computational Science in Engineering  \n",
            "3    Fundamentals of Theoretical and Experimental A...  \n",
            "4              Introduction to Aircraft Control System  \n",
            "5                Introduction to Experiments in Flight  \n",
            "6                             Lighter than Air Systems  \n",
            "7                                    Rocket Propulsion  \n",
            "8            Combustion of Solid Fuels and Propellants  \n",
            "9            Introduction to Ancient Indian Technology  \n",
            "10                       Aerospace Structural Analysis  \n",
            "11      Fundamentals of Supersonic and Hypersonic Flow  \n",
            "12   Cooling Technology: Why and How utilized in Fo...  \n",
            "13       Machine Learning For Soil And Crop Management  \n",
            "14   Novel Technologies For Food Processing And She...  \n",
            "15                                Traction Engineering  \n",
            "16                                 Watershed Hydrology  \n",
            "17                  Water Quality Management Practices  \n",
            "18   Modern Food Packaging Technologies: Regulatory...  \n",
            "19     Basics of Crop Breeding and Plant Biotechnology  \n",
            "20   Engineering/Architectural Graphics - part I - ...  \n",
            "21   Engineering/Architectural Graphics – part II –...  \n",
            "22                     Environmental Impact Assessment  \n",
            "23      Structure, Form, and Architecture: The Synergy  \n",
            "24                               User Interface Design  \n",
            "25    Introduction to History of Architecture in India  \n",
            "26   Research Methodology for Planning and Architec...  \n",
            "27                             Urban Services Planning  \n",
            "28               Maternal Infant Young Child Nutrition  \n",
            "29       Maternal Infant Young Child Nutrition (Hindi)  \n",
            "30                              Computational Genomics  \n",
            "31                                         RNA Biology  \n",
            "32                                    Human Physiology  \n",
            "33                                        Biomechanics  \n",
            "34                                   Molecular Biology  \n",
            "35               Pharmacognosy & Metabolic Engineering  \n",
            "36                         Plant Developmental Biology  \n",
            "37                                  Structural Biology  \n",
            "38                        Data Analysis For Biologists  \n",
            "39                                 Biochemistry - IITM  \n",
            "40                                 Bioelectrochemistry  \n",
            "41   Bioengineering: An Interface with Biology and ...  \n",
            "42         BioInformatics: Algorithms and Applications  \n",
            "43                            Biointerface Engineering  \n",
            "44                      Bioreactor Design and Analysis  \n",
            "45   Cell Biology: Cellular organization, division ...  \n",
            "46                       Computational Systems Biology  \n",
            "47                              Conservation Economics  \n",
            "48                              Demystifying The Brain  \n",
            "49                      Enzyme Sciences and Technology  \n",
            "50                        Forests and their Management  \n",
            "51              Host-Pathogen Interaction (Immunology)  \n",
            "52               Interactomics : Basics & Applications  \n",
            "53    Introductory Mathematical Methods for Biologists  \n",
            "54                        Material and Energy Balances  \n",
            "55                                Medical Biomaterials  \n",
            "56                               Metabolic Engineering  \n",
            "57                       Nanotechnology In Agriculture  \n",
            "58   Thermodynamics for Biological Systems : Classi...  \n",
            "59   Optical Spectroscopy and Microscopy : Fundamen...  \n",
            "60             Biostatistics and Design of experiments  \n",
            "61   Introduction To Professional Scientific Commun...  \n",
            "62                                     I Think Biology  \n",
            "63   Microsensors, Implantable Devices and Rodent S...  \n",
            "64                            Classics in Neuroscience  \n",
            "65                     Advanced Foundation Engineering  \n",
            "66                             Advanced Soil Mechanics  \n",
            "67                           Air pollution and Control  \n",
            "68                  Applied Environmental Microbiology  \n",
            "69                    Applied Seismology for Engineers  \n",
            "70                        Basic construction materials  \n",
            "71       Construction Methods And Equipment Management  \n",
            "72   Development and Applications of Special Concretes  \n",
            "73          Earthquake Resistant Design of Foundations  \n",
            "74                               Engineering Hydrology  \n",
            "75     Environmental Remediation of Contaminated Sites  \n",
            "76                                      Expansive Soil  \n",
            "77                               Finite Element Method  \n",
            "78                      Geographic Information Systems  \n",
            "79                          Geology and Soil Mechanics  \n",
            "80                                       Geomorphology  \n",
            "81        Geosynthetics And Reinforced Soil Structures  \n",
            "82                        Geotechnical Engineering - 1  \n",
            "83   Geotechnical Engineering II Foundation Enginee...  \n",
            "84                               Hydraulic Engineering  \n",
            "85   Introduction to Accounting and Finance for Civ...  \n",
            "86       Maintenance and Repair of Concrete Structures  \n",
            "87   Mechanical Characterization of Bituminous Mate...  \n",
            "88               Microwave Remote Sensing in Hydrology  \n",
            "89                            Plastic Waste Management  \n",
            "90                           Remote Sensing Essentials  \n",
            "91   Retrofitting and Rehabilitation of Civil Infra...  \n",
            "92                                    Rock Engineering  \n",
            "93                                       Soil Dynamics  \n",
            "94                          Soil Structure Interaction  \n",
            "95                               Structural Analysis-I  \n",
            "96                                 Structural Dynamics  \n",
            "97                                Structural Vibration  \n",
            "98                             Surface Water Hydrology  \n",
            "99                                 Traffic Engineering  \n",
            "100                         Unsaturated Soil Mechanics  \n",
            "101              Urban Transportation Systems Planning  \n",
            "102                    Vibration of Continuous Systems  \n",
            "103                    Water and waste water treatment  \n",
            "104                           Water Supply Engineering  \n",
            "105  निर्माण प्रबंधन (Construction Management) के स...  \n",
            "106        Analysis and Design of Bituminous Pavements  \n",
            "107  Introduction to Lean Construction (Module 1 - ...  \n",
            "108                      Modern Construction Materials  \n",
            "109       Introduction to Civil Engineering Profession  \n",
            "110                                Concrete Technology  \n",
            "111  Energy Efficiency, Acoustics and Daylighting i...  \n",
            "112       Remote Sensing and GIS for rural development  \n",
            "113                The evolution of the Earth and life  \n",
            "114     Geomorphic Processes: Landforms And Landscapes  \n",
            "115                                    Natural Hazards  \n",
            "116  Laboratory Practices in Earth Sciences: Landsc...  \n",
            "117                    Industrial Wastewater Treatment  \n",
            "118  Advanced Topics in Science and Technology of C...  \n",
            "119    Electrochemical Technology in Pollution Control  \n",
            "120  Advanced Thermodynamics and Molecular Simulations  \n",
            "121                       Applied Time-Series Analysis  \n",
            "122  Aspen Plus® Simulation Software - A Basic Cour...  \n",
            "123  Basic Principles And Calculations In Chemical ...  \n",
            "124  Biological process design for wastewater treat...  \n",
            "125                 Biomass Conversion And Biorefinery  \n",
            "126  Chemical Engineering Fluid Dynamics and Heat T...  \n",
            "127                        Chemical Process Technology  \n",
            "128                         Chemical Process Utilities  \n",
            "129                   Chemical Reaction Engineering II  \n",
            "130                       Computational Fluid Dynamics  \n",
            "131                       Computational process design  \n",
            "132  Computer Aided Applied Single Objective Optimi...  \n",
            "133        Environmental Quality Monitoring & Analysis  \n",
            "134                              Fluid Flow Operations  \n",
            "135                                      Heat Transfer  \n",
            "136                                Membrane Technology  \n",
            "137                        Momentum Transfer in Fluids  \n",
            "138                                   Multiphase Flows  \n",
            "139                           Multiphase Microfluidics  \n",
            "140  Physical And Electrochemical Characterizations...  \n",
            "141  Physico-chemical processes for wastewater trea...  \n",
            "142                       Polymer Reaction Engineering  \n",
            "143                           Process Equipment Design  \n",
            "144  Renewable Energy Engineering: Solar, Wind And ...  \n",
            "145           Thermodynamics Of Fluid Phase Equilibria  \n",
            "146              Unit operations of particulate matter  \n",
            "147                         Waste to Energy Conversion  \n",
            "148                            Advanced Thermodynamics  \n",
            "149                Chemical Engineering Thermodynamics  \n",
            "150  Modeling Stochastic phenomena for Engineering ...  \n",
            "151                      Inorganic Chemical Technology  \n",
            "152                 Applied Statistical Thermodynamics  \n",
            "153  Characterization of Polymers, Elastomers and C...  \n",
            "154       Matlab Programming for Numerical Computation  \n",
            "155                        Foundations of Cryptography  \n",
            "156                   Introduction to programming in C  \n",
            "157  Linear programming and its applications to com...  \n",
            "158        Privacy and Security in Online Social Media  \n",
            "159                 Basics of Computational Complexity  \n",
            "160                     Advanced Computer Architecture  \n",
            "161                         Secure Computation: Part I  \n",
            "162         An Introduction to Artificial Intelligence  \n",
            "163            Cloud Computing and Distributed Systems  \n",
            "164                Switching Circuits and Logic Design  \n",
            "165                         Advanced Computer Networks  \n",
            "166                                Affective Computing  \n",
            "167                         AI:Constraint Satisfaction  \n",
            "168  Artificial Intelligence: Knowledge Representat...  \n",
            "169                    Blockchain and its Applications  \n",
            "170                          Circuit Complexity Theory  \n",
            "171                                    Cloud Computing  \n",
            "172                                    Compiler Design  \n",
            "173            Computer Networks And Internet Protocol  \n",
            "174                         Data Analytics with Python  \n",
            "175                        Data Base Management System  \n",
            "176                                        Data Mining  \n",
            "177                  Design and analysis of algorithms  \n",
            "178                    Embedded System Design with ARM  \n",
            "179                            Embedded Systems Design  \n",
            "180                    Foundation of Cloud IoT Edge ML  \n",
            "181              Foundations of Cyber Physical Systems  \n",
            "182        Fundamental Algorithms: Design And Analysis  \n",
            "183       Getting Started with Competitive Programming  \n",
            "184                  GPU Architectures And Programming  \n",
            "185  Information Security - 5 - Secure Systems Engi...  \n",
            "186  Introduction to Automata, Languages and Comput...  \n",
            "187             Introduction to Embedded System Design  \n",
            "188  Introduction To Industry 4.0 And Industrial In...  \n",
            "189                 Introduction To Internet Of Things  \n",
            "190           Introduction to Machine Learning (Tamil)  \n",
            "191                     Introduction To Soft Computing  \n",
            "192  Machine Learning for Engineering and science a...  \n",
            "193                        Natural Language Processing  \n",
            "194  Object Oriented System Development Using UML, ...  \n",
            "195  Optimisation for Machine Learning: Theory and ...  \n",
            "196           Problem Solving Through Programming In C  \n",
            "197                                Programming In Java  \n",
            "198                          Programming in Modern C++  \n",
            "199  Programming, Data Structures And Algorithms Us...  \n",
            "200                      Selected Topics in Algorithms  \n",
            "201                                   Software Testing  \n",
            "202                        Systems and Usable Security  \n",
            "203                              Theory of Computation  \n",
            "204  User-centric Computing For Human-Computer Inte...  \n",
            "205                   Introduction to Machine Learning  \n",
            "206                             Reinforcement Learning  \n",
            "207                         Data Science for Engineers  \n",
            "208                            Python for Data Science  \n",
            "209                   Introduction to Database Systems  \n",
            "210                                    Social Networks  \n",
            "211                  The Joy of Computing using Python  \n",
            "212                               Discrete Mathematics  \n",
            "213                          Deep Learning - IIT Ropar  \n",
            "214                               Machine Learning, ML  \n",
            "215                        Digital Design with Verilog  \n",
            "216                   Probability for Computer Science  \n",
            "217                     Parallel Computer Architecture  \n",
            "218                              Games and Information  \n",
            "219                  Business Intelligence & Analytics  \n",
            "220                                     Edge Computing  \n",
            "221  Metallocene and Metal-carbene based Organometa...  \n",
            "222      Advanced Chemical Thermodynamics and Kinetics  \n",
            "223  Advanced Transition Metal Organometallic Chemi...  \n",
            "224  Basic thermodynamics: Classical and Statistica...  \n",
            "225                      Basics in Inorganic Chemistry  \n",
            "226                                       Biochemistry  \n",
            "227                   Chemistry Of Main Group Elements  \n",
            "228  Co-Ordination Chemistry (Chemistry Of Transiti...  \n",
            "229             Electrochemical impedance Spectroscopy  \n",
            "230                        Elementary Electrochemistry  \n",
            "231  Essentials Of Biomolecules : Nucleic Acids And...  \n",
            "232  Essentials of Oxidation, Reduction and C-C Bon...  \n",
            "233                          Experimental Biochemistry  \n",
            "234                       Fundamentals of Spectroscopy  \n",
            "235                     Industrial Inorganic Chemistry  \n",
            "236              Interpretative molecular spectroscopy  \n",
            "237                                Medicinal Chemistry  \n",
            "238  Molecular Spectroscopy: A Physical Chemist’s p...  \n",
            "239                         Nuclear and Radiochemistry  \n",
            "240  One and Two dimensional NMR Spectroscopy: Conc...  \n",
            "241                        Organic Chemistry I (Tamil)  \n",
            "242                           Organometallic Chemistry  \n",
            "243    Pericyclic Reactions and Organic Photochemistry  \n",
            "244                          Symmetry and Group Theory  \n",
            "245         Symmetry, Stereochemistry and Applications  \n",
            "246  Transition Metal Organometallics in Catalysis ...  \n",
            "247                       Ultrafast laser spectroscopy  \n",
            "248                             Bioinorganic Chemistry  \n",
            "249                         Supramolecular Chemistry-I  \n",
            "250                  Elementary Thermodynamics for All  \n",
            "251           Thermodynamics: Classical To Statistical  \n",
            "252                   Time Dependent Quantum Chemistry  \n",
            "253             Many body methods in quantum chemistry  \n",
            "254                  Strategies for Sustainable Design  \n",
            "255                 Fundamentals of Automotive Systems  \n",
            "256                               Understanding Design  \n",
            "257                          Understanding Ethnography  \n",
            "258      Understanding Incubation and Entrepreneurship  \n",
            "259                              Usability Engineering  \n",
            "260                  Design, Technology and Innovation  \n",
            "261                               Innovation by Design  \n",
            "262                Foundations of Accounting & Finance  \n",
            "263                               Applied Econometrics  \n",
            "264                Applied Statistics and Econometrics  \n",
            "265     Indian Economy: Some Contemporary Perspectives  \n",
            "266                 Microfoundations Of Macroeconomics  \n",
            "267                       Introduction to Econometrics  \n",
            "268                                   Health Economics  \n",
            "269  Predictive Analytics - Regression and Classifi...  \n",
            "270                       Neural Science for Engineers  \n",
            "271              Fundamentals of semiconductor devices  \n",
            "272                        Photonic integrated circuit  \n",
            "273                                      Deep Learning  \n",
            "274              Electronics Enclosures Thermal issues  \n",
            "275  Electronics equipment integration and Prototyp...  \n",
            "276                   Fundamental of Power Electronics  \n",
            "277  Integrated Circuits, Mosfets, OP-Amps and thei...  \n",
            "278            A brief introduction of Micro - Sensors  \n",
            "279  Advanced topics in Wireless Communication (Hindi)  \n",
            "280                                    Analog Circuits  \n",
            "281                  Analog Electronic Circuits - IITM  \n",
            "282                                   Analog Ic Design  \n",
            "283              Circuit Analysis for Analog Designers  \n",
            "284                                Control engineering  \n",
            "285     Digital Signal Processing and its Applications  \n",
            "286                              Digital System Design  \n",
            "287  Foundations of Wavelets and Multirate Digital ...  \n",
            "288                           Linear Dynamical Systems  \n",
            "289                      Microwave Integrated Circuits  \n",
            "290                             Modern Computer Vision  \n",
            "291                                      Multirate DSP  \n",
            "292                              Optical Fiber Sensors  \n",
            "293               Power Management Integrated Circuits  \n",
            "294                Principles of Digital Communication  \n",
            "295                          RF and Microwave Networks  \n",
            "296       Semiconductor device modeling and Simulation  \n",
            "297                                Signals and Systems  \n",
            "298                           CMOS Digital VLSI Design  \n",
            "299    EV - Vehicle Dynamics and Electric Motor Drives  \n",
            "300  Electromagnetic Waves in Guided and Wireless M...  \n",
            "301       Fuzzy Sets, Logic and Systems & Applications  \n",
            "302                                    Optimal control  \n",
            "303                Power Quality Improvement Technique  \n",
            "304            Principles of Communication Systems - I  \n",
            "305                  Principles of Signals and Systems  \n",
            "306        Smart Grid: Basics to Advanced Technologies  \n",
            "307  Computer Vision And Image Processing - Fundame...  \n",
            "308              Design Of Power Electronic Converters  \n",
            "309                    Microprocessors And Interfacing  \n",
            "310  Operation And Planning Of Power Distribution S...  \n",
            "311       Transmission lines and electromagnetic waves  \n",
            "312                                  Digital IC Design  \n",
            "313             Design and Analysis of VLSI Subsystems  \n",
            "314                              Sensors and Actuators  \n",
            "315               Microprocessors and Microcontrollers  \n",
            "316              An Introduction to Information Theory  \n",
            "317                             Applied Linear Algebra  \n",
            "318                       Biomedical Signal Processing  \n",
            "319       Computer-Aided Design of Electrical Machines  \n",
            "320              Digital Communication using GNU Radio  \n",
            "321                        Digital Electronic Circuits  \n",
            "322                           Electrical Machines - II  \n",
            "323              Evolution Of Air Interface Towards 5G  \n",
            "324                                      Facts Devices  \n",
            "325                  Industrial Automation And Control  \n",
            "326                             Medical Image Analysis  \n",
            "327                                   Network Analysis  \n",
            "328  Optical Wireless Communications for Beyond 5G ...  \n",
            "329                                      Power Quality  \n",
            "330                           Power System Engineering  \n",
            "331  State space Approach to Control System Analysi...  \n",
            "332                             VLSI Signal Processing  \n",
            "333                 Digital Protection of Power System  \n",
            "334                              Control System Design  \n",
            "335                     Nonlinear and Adaptive Control  \n",
            "336  EMI /EMC and Signal Integrity: Principles, Tec...  \n",
            "337  Embedded Sensing, Actuation and Interfacing Sy...  \n",
            "338          Basics of Semiconductor Microwave Devices  \n",
            "339                       Physics of Nanoscale Devices  \n",
            "340                             Communication Networks  \n",
            "341        Fundamentals Of MIMO Wireless Communication  \n",
            "342               Integrated Circuits and Applications  \n",
            "343                         Millimeter Wave Technology  \n",
            "344                              RF Transceiver Design  \n",
            "345  Signal Processing Techniques and its Applications  \n",
            "346          VLSI Physical Design with Timing Analysis  \n",
            "347    Multi-Criteria Decision Making and Applications  \n",
            "348  An Introduction to Urban Ecological Heritage: ...  \n",
            "349             Vulnerability Studies: An Introduction  \n",
            "350  Pulmonary Function tests - Interpretation and ...  \n",
            "351               Basic Certificate in Palliative Care  \n",
            "352  Fundamental Of Fluid Mechanics For Chemical An...  \n",
            "353  NBA Accreditation and Teaching and learning in...  \n",
            "354        Teaching And Learning in Engineering (TALE)  \n",
            "355                        Basic Course in Ornithology  \n",
            "356      Basics of Mental Health & Clinical Psychiatry  \n",
            "357                                       Biophotonics  \n",
            "358                    Designing Learner-Centric MOOCs  \n",
            "359         Effective Engineering Teaching In Practice  \n",
            "360                             Engineering Statistics  \n",
            "361                        Entrepreneurship Essentials  \n",
            "362          Foundation Certificate In Palliative Care  \n",
            "363                    Fuzzy Logic And Neural Networks  \n",
            "364               Groundwater hydrology and management  \n",
            "365  Introduction To Environmental Engineering And ...  \n",
            "366            Introduction to Reliability Engineering  \n",
            "367                               Research Methodology  \n",
            "368  Management of Medical Emergencies in Dental Pr...  \n",
            "369   Nanobio Technology Enabled Point-of-Care Devices  \n",
            "370                  Non-conventional energy Resources  \n",
            "371                                         One Health  \n",
            "372                                       Oral Biology  \n",
            "373  Outcome Based Pedagogic Principles For Effecti...  \n",
            "374           Research Methodology in Natural Sciences  \n",
            "375                        Roadmap for patent creation  \n",
            "376                   Rural Water Resources Management  \n",
            "377                              Experimental Robotics  \n",
            "378  Conservation & Project Management of Baoli Wat...  \n",
            "379                                        Medical Law  \n",
            "380  An Overview on Maternal Health Antenatal, Intr...  \n",
            "381                                Recommender Systems  \n",
            "382  Comprehensive Molecular Diagnostics and Advanc...  \n",
            "383  Science Communication: Research Productivity a...  \n",
            "384                 Petroleum Economics and Management  \n",
            "385                  Advanced Level of Spoken Sanskrit  \n",
            "386              Education for Sustainable Development  \n",
            "387  Elements of Literature and Creative Communication  \n",
            "388                             Emotional Intelligence  \n",
            "389  Introduction On Intellectual Property To Engin...  \n",
            "390         Legal Compliance For Incorporating Startup  \n",
            "391                               Speaking Effectively  \n",
            "392                   Strategic Performance Management  \n",
            "393          Technology Transfer Through Joint Venture  \n",
            "394                           Training and Development  \n",
            "395                  Development of Sociology in India  \n",
            "396                    Great Experiments In Psychology  \n",
            "397                             Soft Skill Development  \n",
            "398             The Science of Happiness and Wellbeing  \n",
            "399                  An Introduction to Microeconomics  \n",
            "400                      Appreciating Hindustani Music  \n",
            "401                         Basics of language Science  \n",
            "402  Bilingualism: A cognitive and psycholinguistic...  \n",
            "403                             Contextualizing Gender  \n",
            "404                    Economic Growth And Development  \n",
            "405                                  Effective Writing  \n",
            "406        Energy Resources, Economics and Environment  \n",
            "407  English Literature of the Romantic Period 1798...  \n",
            "408              Enhancing Soft Skills and Personality  \n",
            "409               Exploring Survey Data on Health Care  \n",
            "410                   Feminism : Concepts and Theories  \n",
            "411                                         German - I  \n",
            "412                                        German - II  \n",
            "413                                       German - III  \n",
            "414            Globalization: Theoretical Perspectives  \n",
            "415                                     Group Dynamics  \n",
            "416                       Health Research Fundamentals  \n",
            "417                                    Human Behaviour  \n",
            "418              Indian Feminisms: Concepts and Issues  \n",
            "419                           Indian Poetry in English  \n",
            "420                              Intellectual Property  \n",
            "421               Introduction To Cognitive Psychology  \n",
            "422                   Introduction to Cultural Studies  \n",
            "423            Introduction to Environmental Economics  \n",
            "424                Introduction To Modern Indian Drama  \n",
            "425    Introduction To Modern Indian Political Thought  \n",
            "426                   Introduction to Pāṇinian grammar  \n",
            "427                   Introduction To Political Theory  \n",
            "428                         Introduction to Psychology  \n",
            "429                   Introduction to World Literature  \n",
            "430                      Japani Bhasha - Saral swaroop  \n",
            "431                                  Language and Mind  \n",
            "432   Language, Culture And Cognition: An Introduction  \n",
            "433          Literary Criticism (From Plato to Leavis)  \n",
            "434                       Literature and Coping Skills  \n",
            "435                                Literature and Life  \n",
            "436               Modern Indian Writing in Translation  \n",
            "437                         Narrative Mode and Fiction  \n",
            "438            Online Communication in the Digital Age  \n",
            "439                      Patent Drafting for Beginners  \n",
            "440            Patent Law for Engineers and Scientists  \n",
            "441       Philosophical Foundations Of Social Research  \n",
            "442          Phonetics And Phonology: A Broad Overview  \n",
            "443  Psychiatry - An Overview and How the Brain Cre...  \n",
            "444     Psychology of Emotion: Theory and Applications  \n",
            "445        Psychology Of Stress, Health And Well-Being  \n",
            "446             Sociological Perspectives On Modernity  \n",
            "447             The Nineteenth - Century English Novel  \n",
            "448                              Trauma and Literature  \n",
            "449                          Twentieth Century Fiction  \n",
            "450  United Nations Sustainable Development Goals (...  \n",
            "451                 समास samāsa in Pāṇinian grammar- I  \n",
            "452             Literary Theory and Literary Criticism  \n",
            "453             English Language for Competitive Exams  \n",
            "454                          Learning English in Hindi  \n",
            "455                   Philosophy and Critical Thinking  \n",
            "456    Energy Resources, Economics, and Sustainability  \n",
            "457     Psychology Of Bilingualism And Multilingualism  \n",
            "458                               Cognitive Ergonomics  \n",
            "459          Sociology and Sanitation: An Introduction  \n",
            "460                             Human Movement Science  \n",
            "461                   Sports and Performance Nutrition  \n",
            "462                                  Sports Psychology  \n",
            "463  Strength & Conditioning for the Indian Population  \n",
            "464  Essentials of Sports Injury Prevention & Rehab...  \n",
            "465  Introduction to Exercise Physiology & Sports P...  \n",
            "466  Fundamentals of Sports Training, Load Manageme...  \n",
            "467                               Forensic Linguistics  \n",
            "468  Advanced Contracts, Tendering and Public Procu...  \n",
            "469                IP Management & Technology Transfer  \n",
            "470                            International Trade Law  \n",
            "471                    Centre-State Relations in India  \n",
            "472  Constitution Law and Public Administration in ...  \n",
            "473                  Advanced Computational Techniques  \n",
            "474  Advanced Course on Partial Differential Equati...  \n",
            "475                   Advanced Engineering Mathematics  \n",
            "476                            Advanced Linear Algebra  \n",
            "477                        Advanced Probability Theory  \n",
            "478                                       Algebra - II  \n",
            "479                            Algebraic Combinatorics  \n",
            "480             An Introduction to Hyperbolic Geometry  \n",
            "481       An introduction to Point-Set-Topology Part-I  \n",
            "482                          An invitation to Topology  \n",
            "483                Applied Linear Algebra in AI and ML  \n",
            "484                                 Basic Calculus - 1  \n",
            "485                               Basic Linear Algebra  \n",
            "486                                Basic Real Analysis  \n",
            "487            Computational Mathematics with SageMath  \n",
            "488                       Dynamical System and Control  \n",
            "489                         Engineering Mathematics II  \n",
            "490  Essentials Of Data Science With R Software - 1...  \n",
            "491  Essentials Of Data Science With R Software - 2...  \n",
            "492  First Course on Partial Differential Equations...  \n",
            "493              Fourier Analysis and its applications  \n",
            "494                                Functional Analysis  \n",
            "495                                       Graph Theory  \n",
            "496  Introduction to Algebraic Geometry and Commuta...  \n",
            "497                      Introduction to Galois Theory  \n",
            "498                       Introduction to Group Theory  \n",
            "499                       Introduction to Lie algebras  \n",
            "500                    Introduction To Queueing Theory  \n",
            "501                   Introduction To Rings And Fields  \n",
            "502                         Introduction to Statistics  \n",
            "503                                     Linear Algebra  \n",
            "504  Mathematical Modelling: Analysis and Applications  \n",
            "505                             Multivariable Calculus  \n",
            "506                                 Numerical Analysis  \n",
            "507                           Numerical Linear Algebra  \n",
            "508      Numerical Methods: Finite difference approach  \n",
            "509  Ordinary and Partial Differential Equations an...  \n",
            "510                       Probabilistic Methods in PDE  \n",
            "511                         Probability And Statistics  \n",
            "512               Probability –I with Examples Using R  \n",
            "513                  Scientific Computing using Matlab  \n",
            "514                  Set Theory and Mathematical Logic  \n",
            "515                              Statistical Inference  \n",
            "516           Numerical Linear Algebra and Application  \n",
            "517                Engineering Thermodynamics in Hindi  \n",
            "518       Engineering Mechanics - Statics and Dynamics  \n",
            "519                             Applied Thermodynamics  \n",
            "520                       Experimental Stress Analysis  \n",
            "521               Acoustic Materials And Metamaterials  \n",
            "522                                  Automatic Control  \n",
            "523                           Convective Heat Transfer  \n",
            "524                    Failure Analysis And Prevention  \n",
            "525                              Financial Mathematics  \n",
            "526    Inspection And Quality Control In Manufacturing  \n",
            "527        Manufacturing Guidelines For Product Design  \n",
            "528                     Mechanical Measurement Systems  \n",
            "529                                       Mechatronics  \n",
            "530        Modelling And Simulation Of Dynamic Systems  \n",
            "531                              Operations Management  \n",
            "532                   Principles Of Casting Technology  \n",
            "533               Principles Of Industrial Engineering  \n",
            "534         Robotics and Control : Theory and Practice  \n",
            "535                        Steam And Gas Power Systems  \n",
            "536               Surface Engineering Of Nanomaterials  \n",
            "537                   Two Phase Flow And Heat Transfer  \n",
            "538                        Introduction to Soft Matter  \n",
            "539    Robotics: Basics and Selected Advanced Concepts  \n",
            "540                                  Advanced Robotics  \n",
            "541             Basics of Finite Element Analysis - II  \n",
            "542  Computational Fluid Dynamics For Incompressibl...  \n",
            "543                  Computer Integrated Manufacturing  \n",
            "544                                    Design Practice  \n",
            "545         Dynamics and Control of Mechanical Systems  \n",
            "546  Evolutionary Computation For Single And Multi-...  \n",
            "547                              Explosions and Safety  \n",
            "548       Finite Element Modeling Of Welding Processes  \n",
            "549      Fundamental Of Welding Science And Technology  \n",
            "550                         Fundamentals of Combustion  \n",
            "551          Fundamentals of combustion for propulsion  \n",
            "552                  Fundamentals Of Compressible Flow  \n",
            "553  Heat Transfer and Combustion in Multiphase Sys...  \n",
            "554                        IC Engines And Gas Turbines  \n",
            "555  Introduction to Abrasive Machining and Finishi...  \n",
            "556                    Introduction To Fluid Mechanics  \n",
            "557     Introduction to Machining and Machining Fluids  \n",
            "558         Introduction To Mechanical Micro Machining  \n",
            "559  Introduction To Uncertainty Analysis And Exper...  \n",
            "560              Kinematics Of Mechanisms And Machines  \n",
            "561    Machinery Fault Diagnosis And Signal Processing  \n",
            "562                                  Machining Science  \n",
            "563                           Manufacturing Automation  \n",
            "564            Manufacturing Process Technology I & II  \n",
            "565  Mechanics Of Fiber Reinforced Polymer Composit...  \n",
            "566                             Mechanics Of Machining  \n",
            "567                   Mechanics of Sheet Metal Forming  \n",
            "568                 Nature and Properties of Materials  \n",
            "569                         Noise Management & Control  \n",
            "570                                Nonlinear Vibration  \n",
            "571                      Oil Hydraulics and Pneumatics  \n",
            "572                     Optimization from fundamentals  \n",
            "573                     Power Plant System Engineering  \n",
            "574                   Product Design and Manufacturing  \n",
            "575            Product Engineering and Design Thinking  \n",
            "576                         Theory Of Composite Shells  \n",
            "577                 Theory of Rectangular Plates-Part1  \n",
            "578             Thermal Engineering: Basic and Applied  \n",
            "579                                     Thermodynamics  \n",
            "580         Turbulent Combustion: Theory and Modelling  \n",
            "581  Two-Phase Flow With Phase Change In Convention...  \n",
            "582                                 Viscous Fluid Flow  \n",
            "583                              Wheeled Mobile Robots  \n",
            "584                      Cryogenic Hydrogen Technology  \n",
            "585               Industrial Hydraulics and Automation  \n",
            "586           Ideal fluid flows using complex analysis  \n",
            "587          Design of Mechanical Transmission Systems  \n",
            "588                       Advanced Machining Processes  \n",
            "589          Introduction to Solidification Processing  \n",
            "590  Data-Enabled Tribological Engineering: From Ex...  \n",
            "591                           Nonlinear Control Design  \n",
            "592                 Refrigeration And Air-Conditioning  \n",
            "593                       Strength Of Materials - IITM  \n",
            "594                                 Project Management  \n",
            "595                           Infrastructure Economics  \n",
            "596             Systems Engineering: Theory & Practice  \n",
            "597  Advances in Strategic Human Resource Managemen...  \n",
            "598                                    AI in Marketing  \n",
            "599       Artificial Intelligence (AI) for Investments  \n",
            "600                    Behavioral And Personal Finance  \n",
            "601  Business analytics and data mining Modeling us...  \n",
            "602         Business Analytics For Management Decision  \n",
            "603          Business Development: From Start to Scale  \n",
            "604                          Business Law for Managers  \n",
            "605                                Business Statistics  \n",
            "606                                 Consumer Behaviour  \n",
            "607              Data Analysis and Decision Making - I  \n",
            "608                         Design Thinking - A Primer  \n",
            "609                                         E-Business  \n",
            "610                     Ethics In Engineering Practice  \n",
            "611                    Financial accounting - IITMandi  \n",
            "612            Financial Derivatives & Risk Management  \n",
            "613                 Financial Institutions And Markets  \n",
            "614                  Financial Management For Managers  \n",
            "615         Financial Statement Analysis and Reporting  \n",
            "616          Foundation Course In Managerial Economics  \n",
            "617                        Global Marketing Management  \n",
            "618  Innovation in Marketing and Marketing of Innov...  \n",
            "619                 Integrated Marketing Communication  \n",
            "620                    Integrated Marketing Management  \n",
            "621                             International Business  \n",
            "622                            International Marketing  \n",
            "623                Introduction to Operations Research  \n",
            "624         Introduction to probability and Statistics  \n",
            "625               Introduction to Stochastic Processes  \n",
            "626           Introduction to System Dynamics Modeling  \n",
            "627                              Investment Management  \n",
            "628                  Leadership and Team Effectiveness  \n",
            "629  Leadership for India Inc: Practical Concepts a...  \n",
            "630                          Management of Field Sales  \n",
            "631                   Managing Change In Organizations  \n",
            "632  Mergers, Acquisitions and Corporate Restructuring  \n",
            "633                                Marketing Analytics  \n",
            "634                          Marketing Management - II  \n",
            "635                 Marketing Research and Analysis-II  \n",
            "636                            MCDM Techniques Using R  \n",
            "637  Modelling And Analytics For Supply Chain Manag...  \n",
            "638  Organizational Behaviour: Individual Dynamics ...  \n",
            "639    Organizational Design Change and Transformation  \n",
            "640                           Principles of Management  \n",
            "641                Production and Operation Management  \n",
            "642       Quality Control and Improvement with MINITAB  \n",
            "643                         Quality Design And Control  \n",
            "644                                  Retail Management  \n",
            "645                          Safety and Risk Analytics  \n",
            "646                  Sales And Distribution Management  \n",
            "647  Simulation of Business Systems: An Applied App...  \n",
            "648                                          Six Sigma  \n",
            "649                       Strategic Services Marketing  \n",
            "650                                 Strategic Sourcing  \n",
            "651                             Supply Chain Analytics  \n",
            "652                          Supply Chain Digitization  \n",
            "653                  Talent Acquisition and Management  \n",
            "654  Technology Forecasting for strategic decision ...  \n",
            "655            Management of New Products and Services  \n",
            "656  Yoga and Positive Psychology for Managing Care...  \n",
            "657                    Management of Inventory Systems  \n",
            "658  Advanced Financial Instruments for Sustainable...  \n",
            "659                               Business Forecasting  \n",
            "660  Business Fundamentals for Entrepreneurs\\n(Part...  \n",
            "661                     Multivariate Procedures with R  \n",
            "662                       Corrosion Protection Methods  \n",
            "663                   Transport Phenomena in Materials  \n",
            "664  Introduction To Crystal Elasticity And Crystal...  \n",
            "665            Defects in Crystalline Solids (Part-II)  \n",
            "666  Solar Photovoltaics: Principles, Technologies ...  \n",
            "667                  Aqueous Corrosion and Its Control  \n",
            "668                 Carbon Materials and Manufacturing  \n",
            "669                    Cathodic Protection Engineering  \n",
            "670  Dealing with materials data : collection, anal...  \n",
            "671   Fundamentals Of Electronic Materials And Devices  \n",
            "672                          Material Characterization  \n",
            "673                  Materials Science and Engineering  \n",
            "674  Steel Quality: Role of Secondary Refining & Co...  \n",
            "675     Theory and Practice of Non Destructive Testing  \n",
            "676                                  Welding Processes  \n",
            "677       Fundamentals of Material Processing - Part 2  \n",
            "678                 Diffusion in Multicomponent Solids  \n",
            "679  Properties of Materials (Nature and Properties...  \n",
            "680                Principles of Extractive Metallurgy  \n",
            "681       Mechanical Behaviour of Materials (Part – I)  \n",
            "682  Surface Engineering For Corrosion And Wear Res...  \n",
            "683                   Drilling And Blasting Technology  \n",
            "684                 Mine Automation and Data Analytics  \n",
            "685                     Crystals, Symmetry and Tensors  \n",
            "686                Advanced design of steel structures  \n",
            "687  Offshore Structures Under Special Environmenta...  \n",
            "688        Surface Facilities for Oil and Gas Handling  \n",
            "689                  Mathematical Methods in Physics 1  \n",
            "690                A Brief Course On Superconductivity  \n",
            "691                  Advanced Condensed Matter Physics  \n",
            "692                       Atomic And Molecular Physics  \n",
            "693                        Electronic Theory Of Solids  \n",
            "694                          Experimental Physics - II  \n",
            "695                    Fluid Dynamics for Astrophysics  \n",
            "696                    Group Theory methods in Physics  \n",
            "697     Introduction to Atmospheric and Space Sciences  \n",
            "698              Introduction To Statistical Mechanics  \n",
            "699                               Nuclear Astrophysics  \n",
            "700                      Physics of Biological Systems  \n",
            "701             Physics through Computational Thinking  \n",
            "702  Quantum Entanglement: Fundamentals, measures a...  \n",
            "703                                Quantum Mechanics I  \n",
            "704                                  Quantum Transport  \n",
            "705                                    Thermal Physics  \n",
            "706              Topology and Condensed Matter Physics  \n",
            "707  Tapestry of Field theory: Classical & Quantum,...  \n",
            "708                    Plasma Physics and Applications  \n",
            "709                 Coherence and Quantum Entanglement  \n",
            "710  Advanced NMR Techniques in Solution and Solid-...  \n",
            "711  Introduction to Quantum Field Theory (Theory o...  \n",
            "712  Fundamentals of Attosecond Science and Technol...  \n",
            "713               Advanced Textile Printing Technology  \n",
            "714                   Evaluation of Textiles Materials  \n",
            "715       Testing of Functional and Technical Textiles  \n",
            "716             Textile Product Design and Development  \n",
            "717                           Textured Yarn Technology  \n",
            "718                           Theory of Yarn Structure  \n",
            "719                          New Spinning Technologies  \n"
          ]
        }
      ]
    },
    {
      "cell_type": "code",
      "source": [
        "import pandas as pd\n",
        "df = pd.read_csv(\"/content/drive/MyDrive/Data/CSV File.csv\")\n",
        "print(df.info())"
      ],
      "metadata": {
        "colab": {
          "base_uri": "https://localhost:8080/"
        },
        "id": "ebgJBDIgPqnU",
        "outputId": "80072019-7320-4118-a42f-dc8303f03687"
      },
      "execution_count": null,
      "outputs": [
        {
          "output_type": "stream",
          "name": "stdout",
          "text": [
            "<class 'pandas.core.frame.DataFrame'>\n",
            "RangeIndex: 720 entries, 0 to 719\n",
            "Data columns (total 18 columns):\n",
            " #   Column                      Non-Null Count  Dtype \n",
            "---  ------                      --------------  ----- \n",
            " 0   Course ID                   720 non-null    object\n",
            " 1   Discipline                  720 non-null    object\n",
            " 2   Course Name                 720 non-null    object\n",
            " 3   SME Name                    720 non-null    object\n",
            " 4   Institute                   720 non-null    object\n",
            " 5   \n",
            "Co-ordinating Institute    720 non-null    object\n",
            " 6   Duration                    720 non-null    object\n",
            " 7   Type of course              720 non-null    object\n",
            " 8   Start date                  720 non-null    object\n",
            " 9   End date                    720 non-null    object\n",
            " 10  Exam date                   720 non-null    object\n",
            " 11  Enrollment End date         720 non-null    object\n",
            " 12  Exam Registration End date  720 non-null    object\n",
            " 13  UG/PG                       720 non-null    object\n",
            " 14  Core/Elective               720 non-null    object\n",
            " 15  FDP                         720 non-null    object\n",
            " 16  Applicable NPTEL Domain     263 non-null    object\n",
            " 17  Course ID.1                 720 non-null    object\n",
            "dtypes: object(18)\n",
            "memory usage: 101.4+ KB\n",
            "None\n"
          ]
        }
      ]
    },
    {
      "cell_type": "markdown",
      "source": [
        "**Pandas Select Columns by indexing in Single Column**\n",
        "\n",
        "**Example:**\n",
        "In this example code extract the \"City\" column from DataFrame, using square brackets notation and assigns it to the variable 'result'. Finally it display the extracted column or series."
      ],
      "metadata": {
        "id": "RKDd8oU-v6AH"
      }
    },
    {
      "cell_type": "code",
      "source": [
        "import pandas as pd\n",
        "\n",
        "# List of Tuples\n",
        "employees = [('Stuti', 28, 'Varanasi', 20000),('Saumya', 32, 'Delhi', 25000),('Aaditya', 25, 'Mumbai', 40000),('Saumya', 32, 'Delhi', 35000),('Saumya', 32, 'Delhi', 30000),('Saumya', 32, 'Mumbai', 20000),('Aaditya', 40, 'Dehradun', 24000),('Seema', 32, 'Delhi', 70000)]\n",
        "\n",
        "# Create a DataFrame object from list\n",
        "df = pd.DataFrame(employees,columns =['Name', 'Age','City', 'Salary'])\n",
        "\n",
        "# Select a single column\n",
        "print(df['City'])"
      ],
      "metadata": {
        "colab": {
          "base_uri": "https://localhost:8080/"
        },
        "id": "5RKKT3JnwtYF",
        "outputId": "302a90e6-842e-4977-dc5c-dbfcace91057"
      },
      "execution_count": null,
      "outputs": [
        {
          "output_type": "stream",
          "name": "stdout",
          "text": [
            "Name      Aaditya\n",
            "Age            25\n",
            "City       Mumbai\n",
            "Salary      40000\n",
            "Name: 2, dtype: object\n"
          ]
        }
      ]
    },
    {
      "cell_type": "markdown",
      "source": [
        "**Pandas Select Columns by indexing in multiple Columns**"
      ],
      "metadata": {
        "id": "lJ69POKAy0O-"
      }
    },
    {
      "cell_type": "markdown",
      "source": [
        "For select the multiple column you have to pass the 2-D array to the selector."
      ],
      "metadata": {
        "id": "Aun4MAXPzH-R"
      }
    },
    {
      "cell_type": "code",
      "source": [
        "import pandas as pd\n",
        "\n",
        "# List of Tuples\n",
        "employees = [('Stuti', 28, 'Varanasi', 20000),('Saumya', 32, 'Delhi', 25000),('Aaditya', 25, 'Mumbai', 40000),('Saumya', 32, 'Delhi', 35000),('Saumya', 32, 'Delhi', 30000),('Saumya', 32, 'Mumbai', 20000),('Aaditya', 40, 'Dehradun', 24000),('Seema', 32, 'Delhi', 70000)]\n",
        "\n",
        "# Create a DataFrame object from list\n",
        "df = pd.DataFrame(employees,columns =['Name', 'Age','City', 'Salary'])\n",
        "\n",
        "# Select a single column\n",
        "print(df['Age'])\n",
        "print()\n",
        "# Select multiple column\n",
        "print(df[['Name','Salary']])"
      ],
      "metadata": {
        "colab": {
          "base_uri": "https://localhost:8080/"
        },
        "id": "RmyIrBrUkfpn",
        "outputId": "3be97f8f-389b-4d52-82e4-28a8ea168a0d"
      },
      "execution_count": null,
      "outputs": [
        {
          "output_type": "stream",
          "name": "stdout",
          "text": [
            "0    28\n",
            "1    32\n",
            "2    25\n",
            "3    32\n",
            "4    32\n",
            "5    32\n",
            "6    40\n",
            "7    32\n",
            "Name: Age, dtype: int64\n",
            "\n",
            "      Name  Salary\n",
            "0    Stuti   20000\n",
            "1   Saumya   25000\n",
            "2  Aaditya   40000\n",
            "3   Saumya   35000\n",
            "4   Saumya   30000\n",
            "5   Saumya   20000\n",
            "6  Aaditya   24000\n",
            "7    Seema   70000\n"
          ]
        }
      ]
    },
    {
      "cell_type": "markdown",
      "source": [
        "**Pandas select column data based on specific condition**"
      ],
      "metadata": {
        "id": "f0Jq7i7IzmMn"
      }
    },
    {
      "cell_type": "markdown",
      "source": [
        "**Example:**\n",
        "\n",
        "As the below example shows that only select the data from our DataFrame only where the **city=='Mumbai'**."
      ],
      "metadata": {
        "id": "5-GMmGWmz1R6"
      }
    },
    {
      "cell_type": "code",
      "source": [
        "import pandas as pd\n",
        "\n",
        "# List of Tuples\n",
        "employees = [('Stuti', 28, 'Varanasi', 20000),('Saumya', 32, 'Delhi', 25000),('Aaditya', 25, 'Mumbai', 40000),('Saumya', 32, 'Delhi', 35000),('Saumya', 32, 'Delhi', 30000),('Saumya', 32, 'Mumbai', 20000),('Aaditya', 40, 'Dehradun', 24000),('Seema', 32, 'Delhi', 70000)]\n",
        "\n",
        "# Create a DataFrame object from list\n",
        "df = pd.DataFrame(employees,columns =['Name', 'Age','City', 'Salary'])\n",
        "\n",
        "# Select employee from a specific city\n",
        "delhi_employee=df[df['City']=='Mumbai']\n",
        "print(delhi_employee)"
      ],
      "metadata": {
        "colab": {
          "base_uri": "https://localhost:8080/"
        },
        "id": "2vqMSFfHlUNm",
        "outputId": "50e48e9f-f4b1-4c8d-8a19-36176e913e87"
      },
      "execution_count": null,
      "outputs": [
        {
          "output_type": "stream",
          "name": "stdout",
          "text": [
            "      Name  Age    City  Salary\n",
            "2  Aaditya   25  Mumbai   40000\n",
            "5   Saumya   32  Mumbai   20000\n"
          ]
        }
      ]
    },
    {
      "cell_type": "markdown",
      "source": [
        "**Example:**\n",
        "\n",
        "As the below example shows that only select the data from our DataFrame only where the **Salary of employee > 30000**."
      ],
      "metadata": {
        "id": "UyGf4InY0V19"
      }
    },
    {
      "cell_type": "code",
      "source": [
        "import pandas as pd\n",
        "\n",
        "# List of Tuples\n",
        "employees = [('Stuti', 28, 'Varanasi', 20000),('Saumya', 32, 'Delhi', 25000),('Aaditya', 25, 'Mumbai', 40000),('Saumya', 32, 'Delhi', 35000),('Saumya', 32, 'Delhi', 30000),('Saumya', 32, 'Mumbai', 20000),('Aaditya', 40, 'Dehradun', 24000),('Seema', 32, 'Delhi', 70000)]\n",
        "\n",
        "# Create a DataFrame object from list\n",
        "df = pd.DataFrame(employees,columns =['Name', 'Age','City', 'Salary'])\n",
        "\n",
        "print(\"select high salary employee in the form of dataframe\")\n",
        "HighSalaryEmployees=df[df['Salary']>30000]\n",
        "print(HighSalaryEmployees)\n",
        "print()\n",
        "print(\"select high salary employee in the form of tuples\")\n",
        "EmployeesofHighSalary=[x for x in employees if x[3]>30000]\n",
        "print(EmployeesofHighSalary)"
      ],
      "metadata": {
        "colab": {
          "base_uri": "https://localhost:8080/"
        },
        "id": "fQrcVsX8mIot",
        "outputId": "3a4728c5-5e16-4495-c33d-db7d5ac23d60"
      },
      "execution_count": null,
      "outputs": [
        {
          "output_type": "stream",
          "name": "stdout",
          "text": [
            "select high salary employee in the form of dataframe\n",
            "      Name  Age    City  Salary\n",
            "2  Aaditya   25  Mumbai   40000\n",
            "3   Saumya   32   Delhi   35000\n",
            "7    Seema   32   Delhi   70000\n",
            "\n",
            "select high salary employee in the form of tuples\n",
            "[('Aaditya', 25, 'Mumbai', 40000), ('Saumya', 32, 'Delhi', 35000), ('Seema', 32, 'Delhi', 70000)]\n"
          ]
        }
      ]
    },
    {
      "cell_type": "markdown",
      "source": [
        "**Pandas Change the index of the DataFrame by using the *inplace* attribute**\n",
        "\n",
        "**inplace** attribute has binary value it means:\n",
        "\n",
        "* if **'True'** than changes is not seen inside the new variable but changes is happened in the original DataFrame.\n",
        "* if **'False'** than changes is seen inside the new variable but changes is not happened in the original DataFrame your DataFrame remains unchanged."
      ],
      "metadata": {
        "id": "ULzXVY9p0lW8"
      }
    },
    {
      "cell_type": "code",
      "source": [
        "import pandas as pd\n",
        "\n",
        "# List of Tuples\n",
        "employees = [('Stuti', 28, 'Varanasi', 20000),('Saumya', 32, 'Delhi', 25000),('Aaditya', 25, 'Mumbai', 40000),('Saumya', 32, 'Delhi', 35000),('Saumya', 32, 'Delhi', 30000),('Saumya', 32, 'Mumbai', 20000),('Aaditya', 40, 'Dehradun', 24000),('Seema', 32, 'Delhi', 70000)]\n",
        "\n",
        "# Create a DataFrame object from list\n",
        "df = pd.DataFrame(employees,columns =['Name', 'Age','City', 'Salary'])\n",
        "\n",
        "data=df.set_index('Name',inplace=True)\n",
        "print(data)\n",
        "print(df)"
      ],
      "metadata": {
        "colab": {
          "base_uri": "https://localhost:8080/"
        },
        "id": "qyblOmLmoUgr",
        "outputId": "ed1baca0-0425-4122-c447-a451ad4f4a95"
      },
      "execution_count": null,
      "outputs": [
        {
          "output_type": "stream",
          "name": "stdout",
          "text": [
            "None\n",
            "         Age      City  Salary\n",
            "Name                          \n",
            "Stuti     28  Varanasi   20000\n",
            "Saumya    32     Delhi   25000\n",
            "Aaditya   25    Mumbai   40000\n",
            "Saumya    32     Delhi   35000\n",
            "Saumya    32     Delhi   30000\n",
            "Saumya    32    Mumbai   20000\n",
            "Aaditya   40  Dehradun   24000\n",
            "Seema     32     Delhi   70000\n"
          ]
        }
      ]
    },
    {
      "cell_type": "code",
      "source": [
        "import pandas as pd\n",
        "\n",
        "# List of Tuples\n",
        "employees = [('Stuti', 28, 'Varanasi', 20000),('Saumya', 32, 'Delhi', 25000),('Aaditya', 25, 'Mumbai', 40000),('Saumya', 32, 'Delhi', 35000),('Saumya', 32, 'Delhi', 30000),('Saumya', 32, 'Mumbai', 20000),('Aaditya', 40, 'Dehradun', 24000),('Seema', 32, 'Delhi', 70000)]\n",
        "\n",
        "# Create a DataFrame object from list\n",
        "df = pd.DataFrame(employees,columns =['Name', 'Age','City', 'Salary'])\n",
        "\n",
        "data=df.set_index('Name',inplace=False)\n",
        "print(data)\n",
        "print(df)"
      ],
      "metadata": {
        "colab": {
          "base_uri": "https://localhost:8080/"
        },
        "id": "a2YBnaN1pDNT",
        "outputId": "82e80101-b195-435f-9fa8-ee80f8b30087"
      },
      "execution_count": null,
      "outputs": [
        {
          "output_type": "stream",
          "name": "stdout",
          "text": [
            "         Age      City  Salary\n",
            "Name                          \n",
            "Stuti     28  Varanasi   20000\n",
            "Saumya    32     Delhi   25000\n",
            "Aaditya   25    Mumbai   40000\n",
            "Saumya    32     Delhi   35000\n",
            "Saumya    32     Delhi   30000\n",
            "Saumya    32    Mumbai   20000\n",
            "Aaditya   40  Dehradun   24000\n",
            "Seema     32     Delhi   70000\n",
            "      Name  Age      City  Salary\n",
            "0    Stuti   28  Varanasi   20000\n",
            "1   Saumya   32     Delhi   25000\n",
            "2  Aaditya   25    Mumbai   40000\n",
            "3   Saumya   32     Delhi   35000\n",
            "4   Saumya   32     Delhi   30000\n",
            "5   Saumya   32    Mumbai   20000\n",
            "6  Aaditya   40  Dehradun   24000\n",
            "7    Seema   32     Delhi   70000\n"
          ]
        }
      ]
    },
    {
      "cell_type": "markdown",
      "source": [
        "**Select a single row**"
      ],
      "metadata": {
        "id": "u0puC4bC2EoU"
      }
    },
    {
      "cell_type": "markdown",
      "source": [
        "**Example:**\n",
        "\n",
        "In this example code sets the \"Name\" column as the index for the DataFrame named 'df' then select and display the row width the index value 'Saumya' using the loc[ ] operator.\n",
        "\n",
        "This operator select and display data where 'Name'='Saumya'.\n",
        "* if **'Name'='Saumya'** is unique in the DataFrame than it display only one result.\n",
        "* if **'Name'='Saumya'** is not unique in the DataFrame than it display all the possible result so don't get confused."
      ],
      "metadata": {
        "id": "bVQn6EaJ2Wq4"
      }
    },
    {
      "cell_type": "code",
      "source": [
        "import pandas as pd\n",
        "\n",
        "# List of Tuples\n",
        "employees = [('Stuti', 28, 'Varanasi', 20000),('Saumya', 32, 'Delhi', 25000),('Aaditya', 25, 'Mumbai', 40000),('Saumya', 32, 'Delhi', 35000),('Saumya', 32, 'Delhi', 30000),('Saumya', 32, 'Mumbai', 20000),('Aaditya', 40, 'Dehradun', 24000),('Seema', 32, 'Delhi', 70000)]\n",
        "\n",
        "# Create a DataFrame object from list\n",
        "df = pd.DataFrame(employees,columns =['Name', 'Age','City', 'Salary'])\n",
        "\n",
        "data=df.set_index('Name',inplace=True)\n",
        "\n",
        "result=df.loc['Saumya']\n",
        "print(result)"
      ],
      "metadata": {
        "colab": {
          "base_uri": "https://localhost:8080/"
        },
        "id": "DrKk2_2ppimM",
        "outputId": "8b71f2db-00e4-4f9a-b2d6-46d0be6d63f9"
      },
      "execution_count": null,
      "outputs": [
        {
          "output_type": "stream",
          "name": "stdout",
          "text": [
            "        Age    City  Salary\n",
            "Name                       \n",
            "Saumya   32   Delhi   25000\n",
            "Saumya   32   Delhi   35000\n",
            "Saumya   32   Delhi   30000\n",
            "Saumya   32  Mumbai   20000\n"
          ]
        }
      ]
    },
    {
      "cell_type": "code",
      "source": [
        "import pandas as pd\n",
        "\n",
        "# List of Tuples\n",
        "employees = [('Stuti', 28, 'Varanasi', 20000),('Saumya', 32, 'Delhi', 25000),('Aaditya', 25, 'Mumbai', 40000),('Saumya', 32, 'Delhi', 35000),('Saumya', 32, 'Delhi', 30000),('Saumya', 32, 'Mumbai', 20000),('Aaditya', 40, 'Dehradun', 24000),('Seema', 32, 'Delhi', 70000)]\n",
        "\n",
        "# Create a DataFrame object from list\n",
        "df = pd.DataFrame(employees,columns =['Name', 'Age','City', 'Salary'])\n",
        "\n",
        "data=df.set_index('Name',inplace=True)\n",
        "\n",
        "result=df.loc['Seema']\n",
        "print(result)"
      ],
      "metadata": {
        "colab": {
          "base_uri": "https://localhost:8080/"
        },
        "id": "UUFjVkFPpPP0",
        "outputId": "ea54d33b-0dd5-4fb6-b208-580f1acfd523"
      },
      "execution_count": null,
      "outputs": [
        {
          "output_type": "stream",
          "name": "stdout",
          "text": [
            "Age          32\n",
            "City      Delhi\n",
            "Salary    70000\n",
            "Name: Seema, dtype: object\n"
          ]
        }
      ]
    },
    {
      "cell_type": "code",
      "source": [
        "import pandas as pd\n",
        "\n",
        "# List of Tuples\n",
        "employees = [('Stuti', 28, 'Varanasi', 20000),('Saumya', 32, 'Delhi', 25000),('Aaditya', 25, 'Mumbai', 40000),('Saumya', 32, 'Delhi', 35000),('Saumya', 32, 'Delhi', 30000),('Saumya', 32, 'Mumbai', 20000),('Aaditya', 40, 'Dehradun', 24000),('Seema', 32, 'Delhi', 70000)]\n",
        "\n",
        "# Create a DataFrame object from list\n",
        "df = pd.DataFrame(employees,columns =['Name', 'Age','City', 'Salary'])\n",
        "\n",
        "ls=set(df[\"Name\"])\n",
        "ls1=list(ls)\n",
        "print(ls)\n",
        "print(ls1)\n",
        "data=df.set_index('Name',inplace=True)\n",
        "\n",
        "result=df.loc[ls1]\n",
        "print(result)"
      ],
      "metadata": {
        "colab": {
          "base_uri": "https://localhost:8080/"
        },
        "id": "wtG-K75epn5P",
        "outputId": "637a5cba-a790-4b46-831b-ec51fd22ebef"
      },
      "execution_count": 18,
      "outputs": [
        {
          "output_type": "stream",
          "name": "stdout",
          "text": [
            "{'Stuti', 'Seema', 'Saumya', 'Aaditya'}\n",
            "['Stuti', 'Seema', 'Saumya', 'Aaditya']\n",
            "         Age      City  Salary\n",
            "Name                          \n",
            "Stuti     28  Varanasi   20000\n",
            "Seema     32     Delhi   70000\n",
            "Saumya    32     Delhi   25000\n",
            "Saumya    32     Delhi   35000\n",
            "Saumya    32     Delhi   30000\n",
            "Saumya    32    Mumbai   20000\n",
            "Aaditya   25    Mumbai   40000\n",
            "Aaditya   40  Dehradun   24000\n"
          ]
        }
      ]
    },
    {
      "cell_type": "markdown",
      "source": [
        " Here we make 'ls' as set to reduce the redundancy means to remove the duplicate values from the name column because ahead we pass the 'ls' to the 'loc[ ]' function as we know the working of 'loc[ ]' function this select and display all the rows or data where the index is match, if we pass whole column without convert it into set than the redudancy seen if we make the set of all the passing values before passing than redundancy is not seen.\n",
        "\n",
        " **Warning**\n",
        "\n",
        " <ipython-input-17-821c7b311991>:14: FutureWarning: Passing a set as an indexer is deprecated and will raise in a future version. Use a list instead.\n",
        "  result=df.loc[ls]\n",
        "\n",
        "  **Correction**\n",
        "\n",
        "  we convert the type of 'ls' into list and then pass to 'loc[ ]' function."
      ],
      "metadata": {
        "id": "4wykoW9g4JFD"
      }
    },
    {
      "cell_type": "markdown",
      "source": [
        "**Select multiple Rows**"
      ],
      "metadata": {
        "id": "FREx87FB5Ei4"
      }
    },
    {
      "cell_type": "markdown",
      "source": [
        "**Example:**\n",
        "\n",
        "In this example code set the 'Name' column as index for DataFrame named 'df' then select and display rows with index values 'Seema' and 'Stuti' using the 'loc[ ]' function."
      ],
      "metadata": {
        "id": "MM9UG-6T5IJL"
      }
    },
    {
      "cell_type": "code",
      "source": [
        "import pandas as pd\n",
        "\n",
        "# List of Tuples\n",
        "employees = [('Stuti', 28, 'Varanasi', 20000),('Saumya', 32, 'Delhi', 25000),('Aaditya', 25, 'Mumbai', 40000),('Saumya', 32, 'Delhi', 35000),('Saumya', 32, 'Delhi', 30000),('Saumya', 32, 'Mumbai', 20000),('Aaditya', 40, 'Dehradun', 24000),('Seema', 32, 'Delhi', 70000)]\n",
        "\n",
        "# Create a DataFrame object from list\n",
        "df = pd.DataFrame(employees,columns =['Name', 'Age','City', 'Salary'])\n",
        "\n",
        "data=df.set_index('Name',inplace=True)\n",
        "\n",
        "result=df.loc[['Seema','Stuti']]\n",
        "print(result)"
      ],
      "metadata": {
        "colab": {
          "base_uri": "https://localhost:8080/"
        },
        "id": "8EsrlCTwpvC8",
        "outputId": "e0e9b22a-e6e2-44bc-ac5c-a91fb9442251"
      },
      "execution_count": null,
      "outputs": [
        {
          "output_type": "stream",
          "name": "stdout",
          "text": [
            "       Age      City  Salary\n",
            "Name                        \n",
            "Seema   32     Delhi   70000\n",
            "Stuti   28  Varanasi   20000\n"
          ]
        }
      ]
    },
    {
      "cell_type": "markdown",
      "source": [
        "**Select Multiple Rows and Particular Columns**"
      ],
      "metadata": {
        "id": "h6FqourS5tpi"
      }
    },
    {
      "cell_type": "markdown",
      "source": [
        "**Example:**\n",
        "\n",
        "In this example code set the 'Name' column as index for DataFrame named 'df' then select the 'Age' and 'Salary' columns for the rows with index values('Name') is 'Seema' and 'Stuti' in the DataFGrame using the 'loc[ ]' function by passyng the 2-D List, and display the result."
      ],
      "metadata": {
        "id": "vU_M641I6Cyy"
      }
    },
    {
      "cell_type": "code",
      "source": [
        "import pandas as pd\n",
        "\n",
        "# List of Tuples\n",
        "employees = [('Stuti', 28, 'Varanasi', 20000),('Saumya', 32, 'Delhi', 25000),('Aaditya', 25, 'Mumbai', 40000),('Saumya', 32, 'Delhi', 35000),('Saumya', 32, 'Delhi', 30000),('Saumya', 32, 'Mumbai', 20000),('Aaditya', 40, 'Dehradun', 24000),('Seema', 32, 'Delhi', 70000)]\n",
        "\n",
        "# Create a DataFrame object from list\n",
        "df = pd.DataFrame(employees,columns =['Name', 'Age','City', 'Salary'])\n",
        "\n",
        "data=df.set_index('Name',inplace=True)\n",
        "\n",
        "result=df.loc[['Seema','Stuti'],['Age','Salary']]\n",
        "print(result)"
      ],
      "metadata": {
        "colab": {
          "base_uri": "https://localhost:8080/"
        },
        "id": "P4t_nSsTqtoj",
        "outputId": "1774e484-8734-4c58-8ffc-6ecf0b3d1ccd"
      },
      "execution_count": null,
      "outputs": [
        {
          "output_type": "stream",
          "name": "stdout",
          "text": [
            "       Age  Salary\n",
            "Name              \n",
            "Seema   32   70000\n",
            "Stuti   28   20000\n"
          ]
        }
      ]
    },
    {
      "cell_type": "markdown",
      "source": [
        "**Select all the Rows with some Particular Columns**"
      ],
      "metadata": {
        "id": "2xAgn6zz6pUb"
      }
    },
    {
      "cell_type": "markdown",
      "source": [
        "We use a single colon \"[ : ]\" to select all rows and the list of columns that we want to select.\n",
        "\n",
        "**Example:**\n",
        "\n",
        "In this example code set the 'Name' column as index for DataFrame named 'df' then extract the 'Age' and 'Salary' columns into the DataFrame using the 'loc[ ]' function."
      ],
      "metadata": {
        "id": "xxFTHSs26xK3"
      }
    },
    {
      "cell_type": "code",
      "source": [
        "import pandas as pd\n",
        "\n",
        "# List of Tuples\n",
        "employees = [('Stuti', 28, 'Varanasi', 20000),('Saumya', 32, 'Delhi', 25000),('Aaditya', 25, 'Mumbai', 40000),('Saumya', 32, 'Delhi', 35000),('Saumya', 32, 'Delhi', 30000),('Saumya', 32, 'Mumbai', 20000),('Aaditya', 40, 'Dehradun', 24000),('Seema', 32, 'Delhi', 70000)]\n",
        "\n",
        "# Create a DataFrame object from list\n",
        "df = pd.DataFrame(employees,columns =['Name', 'Age','City', 'Salary'])\n",
        "\n",
        "data=df.set_index('Name',inplace=True)\n",
        "\n",
        "result=df.loc[:,['Age','Salary']]\n",
        "print(result)"
      ],
      "metadata": {
        "colab": {
          "base_uri": "https://localhost:8080/"
        },
        "id": "pUuqE5uBrACw",
        "outputId": "52593cb2-b617-4011-e2d7-91d3034c9bef"
      },
      "execution_count": null,
      "outputs": [
        {
          "output_type": "stream",
          "name": "stdout",
          "text": [
            "         Age  Salary\n",
            "Name                \n",
            "Stuti     28   20000\n",
            "Saumya    32   25000\n",
            "Aaditya   25   40000\n",
            "Saumya    32   35000\n",
            "Saumya    32   30000\n",
            "Saumya    32   20000\n",
            "Aaditya   40   24000\n",
            "Seema     32   70000\n"
          ]
        }
      ]
    },
    {
      "cell_type": "markdown",
      "source": [
        "**Select Rows and Columns in Pandas DataFrame using \"iloc[ ]\" function**\n",
        "\n"
      ],
      "metadata": {
        "id": "jZWEt63n7vDQ"
      }
    },
    {
      "cell_type": "markdown",
      "source": [
        "The 'iloc[]' is used for selection based on position. it is similar to 'loc[]' indexer but it takes **only integer values** to make selections.\n",
        "\n",
        "There are many ways to use this function:\n",
        "\n",
        "1. Select a single row\n",
        "\n",
        "2. Select multiple rows\n",
        "\n",
        "3. Select multiple rows with some particular columns\n",
        "\n",
        "4. Select all rows with some particular columns"
      ],
      "metadata": {
        "id": "wDQDyTzb8HSr"
      }
    },
    {
      "cell_type": "code",
      "source": [
        "import pandas as pd\n",
        "\n",
        "# List of Tuples\n",
        "employees = [('Stuti', 28, 'Varanasi', 20000),('Saumya', 32, 'Delhi', 25000),('Aaditya', 25, 'Mumbai', 40000),('Saumya', 32, 'Delhi', 35000),('Saumya', 32, 'Delhi', 30000),('Saumya', 32, 'Mumbai', 20000),('Aaditya', 40, 'Dehradun', 24000),('Seema', 32, 'Delhi', 70000)]\n",
        "\n",
        "# Create a DataFrame object from list\n",
        "df = pd.DataFrame(employees,columns =['Name', 'Age','City', 'Salary'])\n",
        "\n",
        "# Select a particular row\n",
        "print(df.iloc[2])\n",
        "\n",
        "print()\n",
        "\n",
        "# Select rows in a paricular range\n",
        "print(df.iloc[1:4])\n",
        "\n",
        "print()\n",
        "\n",
        "# Select selected rows\n",
        "print(df.iloc[[1,4,6]])"
      ],
      "metadata": {
        "colab": {
          "base_uri": "https://localhost:8080/"
        },
        "id": "xIGcy5M-rUwx",
        "outputId": "902cf475-d822-4906-fb9e-21ae7d6a89bc"
      },
      "execution_count": null,
      "outputs": [
        {
          "output_type": "stream",
          "name": "stdout",
          "text": [
            "Name      Aaditya\n",
            "Age            25\n",
            "City       Mumbai\n",
            "Salary      40000\n",
            "Name: 2, dtype: object\n",
            "\n",
            "      Name  Age    City  Salary\n",
            "1   Saumya   32   Delhi   25000\n",
            "2  Aaditya   25  Mumbai   40000\n",
            "3   Saumya   32   Delhi   35000\n",
            "\n",
            "      Name  Age      City  Salary\n",
            "1   Saumya   32     Delhi   25000\n",
            "4   Saumya   32     Delhi   30000\n",
            "6  Aaditya   40  Dehradun   24000\n"
          ]
        }
      ]
    },
    {
      "cell_type": "code",
      "source": [
        "import pandas as pd\n",
        "\n",
        "# List of Tuples\n",
        "employees = [('Stuti', 28, 'Varanasi', 20000),('Saumya', 32, 'Delhi', 25000),('Aaditya', 25, 'Mumbai', 40000),('Saumya', 32, 'Delhi', 35000),('Saumya', 32, 'Delhi', 30000),('Saumya', 32, 'Mumbai', 20000),('Aaditya', 40, 'Dehradun', 24000),('Seema', 32, 'Delhi', 70000)]\n",
        "\n",
        "# Create a DataFrame object from list\n",
        "df = pd.DataFrame(employees,columns =['Name', 'Age','City', 'Salary'])\n",
        "\n",
        "# Select particular rows with particular columns\n",
        "print(df.iloc[[1,4,6],[0,3]])"
      ],
      "metadata": {
        "colab": {
          "base_uri": "https://localhost:8080/"
        },
        "id": "IV3ZeDU0sl4g",
        "outputId": "586d8fdb-aaa5-45bb-bc00-5b60500f9172"
      },
      "execution_count": null,
      "outputs": [
        {
          "output_type": "stream",
          "name": "stdout",
          "text": [
            "      Name  Salary\n",
            "1   Saumya   25000\n",
            "4   Saumya   30000\n",
            "6  Aaditya   24000\n"
          ]
        }
      ]
    },
    {
      "cell_type": "code",
      "source": [
        "import pandas as pd\n",
        "\n",
        "# List of Tuples\n",
        "employees = [('Stuti', 28, 'Varanasi', 20000),('Saumya', 32, 'Delhi', 25000),('Aaditya', 25, 'Mumbai', 40000),('Saumya', 32, 'Delhi', 35000),('Saumya', 32, 'Delhi', 30000),('Saumya', 32, 'Mumbai', 20000),('Aaditya', 40, 'Dehradun', 24000),('Seema', 32, 'Delhi', 70000)]\n",
        "\n",
        "# Create a DataFrame object from list\n",
        "df = pd.DataFrame(employees,columns =['Name', 'Age','City', 'Salary'])\n",
        "\n",
        "# Select all rows with particular columns\n",
        "print(df.iloc[:,[0,3]])"
      ],
      "metadata": {
        "colab": {
          "base_uri": "https://localhost:8080/"
        },
        "id": "Y9ReAgi4s-D2",
        "outputId": "6717f2af-b4f2-42e9-81f5-fcfff6cc75ed"
      },
      "execution_count": null,
      "outputs": [
        {
          "output_type": "stream",
          "name": "stdout",
          "text": [
            "      Name  Salary\n",
            "0    Stuti   20000\n",
            "1   Saumya   25000\n",
            "2  Aaditya   40000\n",
            "3   Saumya   35000\n",
            "4   Saumya   30000\n",
            "5   Saumya   20000\n",
            "6  Aaditya   24000\n",
            "7    Seema   70000\n"
          ]
        }
      ]
    },
    {
      "cell_type": "markdown",
      "source": [
        "**Find the number of Rows and number of Columns in the DataFrame**\n",
        "\n",
        "Use the **df.shape[ ]** function to count of find the number of rows and number of columns\n",
        "\n",
        "* if we pass **1 OR -1** to the **df.shape[ ]** than it return the number of **Columns**\n",
        "\n",
        "* if we pass **0 OR -2** to the **df.shape[ ]** than it return the number of **Rows**"
      ],
      "metadata": {
        "id": "LxWWBBiL9jwa"
      }
    },
    {
      "cell_type": "code",
      "source": [
        "import pandas as pd\n",
        "\n",
        "# List of Tuples\n",
        "employees = [('Stuti', 28, 'Varanasi', 20000),('Saumya', 32, 'Delhi', 25000),('Aaditya', 25, 'Mumbai', 40000),('Saumya', 32, 'Delhi', 35000),('Saumya', 32, 'Delhi', 30000),('Saumya', 32, 'Mumbai', 20000),('Aaditya', 40, 'Dehradun', 24000),('Seema', 32, 'Delhi', 70000)]\n",
        "\n",
        "# Create a DataFrame object from list\n",
        "df = pd.DataFrame(employees,columns =['Name', 'Age','City', 'Salary'])\n",
        "\n",
        "# Count the number of columns\n",
        "print('Count the number of column: ',df.shape[1]) # Axis 1 mens horizontally same as in 2D array\n",
        "\n",
        "# Count the number of rows\n",
        "print('Count the number of rows: ',df.shape[0]) # Axis 0 means vertically same as in 2D array\n",
        "\n",
        "# Count the number of columns\n",
        "print('Count the number of column: ',df.shape[-1]) # Axis 1 mens horizontally same as in 2D array\n",
        "\n",
        "# Count the number of rows\n",
        "print('Count the number of rows: ',df.shape[-2]) # Axis 0 means vertically same as in 2D array"
      ],
      "metadata": {
        "colab": {
          "base_uri": "https://localhost:8080/"
        },
        "id": "9zH3nGKKuCYt",
        "outputId": "21ef730c-72b9-4849-b4a5-af91460f01ef"
      },
      "execution_count": null,
      "outputs": [
        {
          "output_type": "stream",
          "name": "stdout",
          "text": [
            "Count the number of column:  4\n",
            "Count the number of rows:  8\n",
            "Count the number of column:  4\n",
            "Count the number of rows:  8\n"
          ]
        }
      ]
    },
    {
      "cell_type": "markdown",
      "source": [
        "**Why can we not just count the rows and columns ourselves?**\n",
        "\n",
        "If we work with larger data set with many columns and rows, it will be confusing to count it by yourself. you risk to count it wrongly.\n",
        "\n",
        "If we use the built-in function in python correctly, we assure that the count is correct."
      ],
      "metadata": {
        "id": "KqdFgN_I-gFf"
      }
    }
  ]
}