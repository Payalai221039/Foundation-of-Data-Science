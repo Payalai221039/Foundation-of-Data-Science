{
  "nbformat": 4,
  "nbformat_minor": 0,
  "metadata": {
    "colab": {
      "provenance": [],
      "authorship_tag": "ABX9TyOyjOLH+x7Ceg+gdnkSg0Wj",
      "include_colab_link": true
    },
    "kernelspec": {
      "name": "python3",
      "display_name": "Python 3"
    },
    "language_info": {
      "name": "python"
    }
  },
  "cells": [
    {
      "cell_type": "markdown",
      "metadata": {
        "id": "view-in-github",
        "colab_type": "text"
      },
      "source": [
        "<a href=\"https://colab.research.google.com/github/OshankAgrawal/Foundation-of-Data-Science/blob/main/NUMPY_Library.ipynb\" target=\"_parent\"><img src=\"https://colab.research.google.com/assets/colab-badge.svg\" alt=\"Open In Colab\"/></a>"
      ]
    },
    {
      "cell_type": "markdown",
      "source": [
        "**NUMPY**\n",
        "\n",
        "\n",
        "\n",
        "*   NumPy is a Python library used for working with arrays.\n",
        "\n",
        "* It also has functions for working in domain of linear algebra, fourier\n",
        "transform, and matrices.\n",
        "\n",
        "* NumPy stands for Numerical Python.\n",
        "\n"
      ],
      "metadata": {
        "id": "3TL4HXvPr0Cl"
      }
    },
    {
      "cell_type": "markdown",
      "source": [
        "For more detail you can refer the link: https://www.geeksforgeeks.org/numpy-tutorial/"
      ],
      "metadata": {
        "id": "FcBTsp7KdIvN"
      }
    },
    {
      "cell_type": "markdown",
      "source": [
        "#Creating Array"
      ],
      "metadata": {
        "id": "WU9iV9k9uyBR"
      }
    },
    {
      "cell_type": "markdown",
      "source": [
        "**Create an Array by passing list or list of lists**"
      ],
      "metadata": {
        "id": "0AE4GEjcspH6"
      }
    },
    {
      "cell_type": "code",
      "source": [
        "import numpy as np\n",
        "arr = np.array([[1,2,3],[4,5,6],[7,8,9],[10,11,12]])\n",
        "print(arr)"
      ],
      "metadata": {
        "colab": {
          "base_uri": "https://localhost:8080/"
        },
        "id": "gw8QBjSnsukO",
        "outputId": "98e206a6-eb80-4f15-ebb3-af7555360c56"
      },
      "execution_count": null,
      "outputs": [
        {
          "output_type": "stream",
          "name": "stdout",
          "text": [
            "[[ 1  2  3]\n",
            " [ 4  5  6]\n",
            " [ 7  8  9]\n",
            " [10 11 12]]\n"
          ]
        }
      ]
    },
    {
      "cell_type": "code",
      "source": [
        "arr = np.array([10, 20, 30], dtype=complex)\n",
        "print(arr)"
      ],
      "metadata": {
        "colab": {
          "base_uri": "https://localhost:8080/"
        },
        "id": "KQ5ZuwgGt5Tg",
        "outputId": "2be23671-96fb-454b-f1c4-d6367778ca42"
      },
      "execution_count": null,
      "outputs": [
        {
          "output_type": "stream",
          "name": "stdout",
          "text": [
            "[10.+0.j 20.+0.j 30.+0.j]\n"
          ]
        }
      ]
    },
    {
      "cell_type": "markdown",
      "source": [
        "**Crreate an array by passing a tupel into array()**"
      ],
      "metadata": {
        "id": "eVYFskU9WwY3"
      }
    },
    {
      "cell_type": "code",
      "source": [
        "tupel = (\"Oshank\",\"Agrawal\")\n",
        "array = np.array(tupel)\n",
        "print(array)"
      ],
      "metadata": {
        "colab": {
          "base_uri": "https://localhost:8080/"
        },
        "id": "q8mN45B2XT0t",
        "outputId": "f72d98ac-641a-4156-ac1e-b9e58a60a61d"
      },
      "execution_count": null,
      "outputs": [
        {
          "output_type": "stream",
          "name": "stdout",
          "text": [
            "['Oshank' 'Agrawal']\n"
          ]
        }
      ]
    },
    {
      "cell_type": "markdown",
      "source": [
        "About **np.array()**\n",
        "\n",
        "Reference Link: https://numpy.org/doc/stable/reference/generated/numpy.array.html\n",
        "\n",
        "array() is used to create an array.\n"
      ],
      "metadata": {
        "id": "sYSvhCUDuHZg"
      }
    },
    {
      "cell_type": "markdown",
      "source": [
        "**Dimensions of array**"
      ],
      "metadata": {
        "id": "yHTvaHvXapKY"
      }
    },
    {
      "cell_type": "markdown",
      "source": [
        "**Create a 0-D Array**"
      ],
      "metadata": {
        "id": "o7WSKZhUaulD"
      }
    },
    {
      "cell_type": "code",
      "source": [
        "array0s = np.array(\"Oshank\")\n",
        "print(array0s)"
      ],
      "metadata": {
        "colab": {
          "base_uri": "https://localhost:8080/"
        },
        "id": "8JVsr9K7azkc",
        "outputId": "2ea348a3-1f7e-40fe-cdd2-e080c4fd8aa2"
      },
      "execution_count": null,
      "outputs": [
        {
          "output_type": "stream",
          "name": "stdout",
          "text": [
            "Oshank\n"
          ]
        }
      ]
    },
    {
      "cell_type": "code",
      "source": [
        "array0n = np.array(655)\n",
        "print(array0n)"
      ],
      "metadata": {
        "colab": {
          "base_uri": "https://localhost:8080/"
        },
        "id": "nfDnSl8nbXzh",
        "outputId": "f7dfd49b-c1ae-4253-bc38-9605e1627d6a"
      },
      "execution_count": null,
      "outputs": [
        {
          "output_type": "stream",
          "name": "stdout",
          "text": [
            "655\n"
          ]
        }
      ]
    },
    {
      "cell_type": "markdown",
      "source": [
        "**Creating 1-D Array**"
      ],
      "metadata": {
        "id": "-qqXWaakbfyG"
      }
    },
    {
      "cell_type": "code",
      "source": [
        "array1n = np.array([1,2,3,4])\n",
        "print(array1n)"
      ],
      "metadata": {
        "colab": {
          "base_uri": "https://localhost:8080/"
        },
        "id": "ejk4zo0YblDa",
        "outputId": "f67bd9ca-75d4-4d6e-9fd5-78c836bcbd1c"
      },
      "execution_count": null,
      "outputs": [
        {
          "output_type": "stream",
          "name": "stdout",
          "text": [
            "[1 2 3 4]\n"
          ]
        }
      ]
    },
    {
      "cell_type": "code",
      "source": [
        "array1s = np.array([\"Oshank\",\"Agrawal\",\"Artificial\",\"Intelligence\"])\n",
        "print(array1s)"
      ],
      "metadata": {
        "colab": {
          "base_uri": "https://localhost:8080/"
        },
        "id": "RYuWdFi1bzPq",
        "outputId": "97ab97d9-90a3-471d-dfe2-2a8e6911ebae"
      },
      "execution_count": null,
      "outputs": [
        {
          "output_type": "stream",
          "name": "stdout",
          "text": [
            "['Oshank' 'Agrawal' 'Artificial' 'Intelligence']\n"
          ]
        }
      ]
    },
    {
      "cell_type": "markdown",
      "source": [
        "**Creating 2-d Array**"
      ],
      "metadata": {
        "id": "yvXYDBSucGwF"
      }
    },
    {
      "cell_type": "code",
      "source": [
        "array2n = np.array([[1,2,3],[4,5,6],[7,8,9]])\n",
        "print(array2n)"
      ],
      "metadata": {
        "colab": {
          "base_uri": "https://localhost:8080/"
        },
        "id": "blytq1ZZcMra",
        "outputId": "8f1144af-51d5-42d6-d6ed-8470a769e4c3"
      },
      "execution_count": null,
      "outputs": [
        {
          "output_type": "stream",
          "name": "stdout",
          "text": [
            "[[1 2 3]\n",
            " [4 5 6]\n",
            " [7 8 9]]\n"
          ]
        }
      ]
    },
    {
      "cell_type": "code",
      "source": [
        "array2s = np.array([[\"Oshank\",\"A\",\"Agrawal\",],[\"Artificial\",\"B\",\"Intelligence\"],[\"Data\",\"C\",\"Science\"]])\n",
        "print(array2s)"
      ],
      "metadata": {
        "id": "yAkndEDncops"
      },
      "execution_count": null,
      "outputs": []
    },
    {
      "cell_type": "markdown",
      "source": [
        "**Creating 3-D Array**"
      ],
      "metadata": {
        "id": "jqwqGDuodA2e"
      }
    },
    {
      "cell_type": "code",
      "source": [
        "array3n = np.array([[[1,2,3],[4,5,6],[7,8,9]],[[10,11,12],[13,14,15],[16,17,18]],[[19,20,21],[22,23,24],[25,26,27]]])\n",
        "print(array3n)"
      ],
      "metadata": {
        "colab": {
          "base_uri": "https://localhost:8080/"
        },
        "id": "Rh2kgEqsdQFY",
        "outputId": "c30d7f9c-f195-4aa4-e1a1-cb0b37d29ec0"
      },
      "execution_count": null,
      "outputs": [
        {
          "output_type": "stream",
          "name": "stdout",
          "text": [
            "[[[ 1  2  3]\n",
            "  [ 4  5  6]\n",
            "  [ 7  8  9]]\n",
            "\n",
            " [[10 11 12]\n",
            "  [13 14 15]\n",
            "  [16 17 18]]\n",
            "\n",
            " [[19 20 21]\n",
            "  [22 23 24]\n",
            "  [25 26 27]]]\n"
          ]
        }
      ]
    },
    {
      "cell_type": "code",
      "source": [
        "array3s = np.array([[[\"Oshank\",\"A\",\"Agrawal\"],[\"Sakshi\",\"B\",\"Tiwari\"],[\"Tanushree\",\"C\",\"Nayak\"]],[[\"Harshraj\",\"D\",\"Ray\"],[\"Shreyansh\",\"E\",\"Shukla\"],[\"Suyash\",\"F\",\"Pawar\"]],[[\"Madhavi\",\"G\",\" \"],[\"Palak\",\"H\",\"Dubey\"],[\"Urvashi\",\"I\",\"Singh\"]]])\n",
        "print(array3s)"
      ],
      "metadata": {
        "colab": {
          "base_uri": "https://localhost:8080/"
        },
        "id": "IYzVf2yud7Dd",
        "outputId": "610ce157-b96c-4382-f7ef-17e29bc4700a"
      },
      "execution_count": null,
      "outputs": [
        {
          "output_type": "stream",
          "name": "stdout",
          "text": [
            "[[['Oshank' 'A' 'Agrawal']\n",
            "  ['Sakshi' 'B' 'Tiwari']\n",
            "  ['Tanushree' 'C' 'Nayak']]\n",
            "\n",
            " [['Harshraj' 'D' 'Ray']\n",
            "  ['Shreyansh' 'E' 'Shukla']\n",
            "  ['Suyash' 'F' 'Pawar']]\n",
            "\n",
            " [['Madhavi' 'G' ' ']\n",
            "  ['Palak' 'H' 'Dubey']\n",
            "  ['Urvashi' 'I' 'Singh']]]\n"
          ]
        }
      ]
    },
    {
      "cell_type": "markdown",
      "source": [
        "#Array Dimension"
      ],
      "metadata": {
        "id": "vq4OzI34u5sr"
      }
    },
    {
      "cell_type": "markdown",
      "source": [
        "**Check the dimensions of array**"
      ],
      "metadata": {
        "id": "YLCzR1rafJHU"
      }
    },
    {
      "cell_type": "code",
      "source": [
        "print(array0n.ndim)\n",
        "print(array0s.ndim)\n",
        "print(array1n.ndim)\n",
        "print(array1s.ndim)\n",
        "print(array2n.ndim)\n",
        "print(array2s.ndim)\n",
        "print(array3n.ndim)\n",
        "print(array3s.ndim)"
      ],
      "metadata": {
        "colab": {
          "base_uri": "https://localhost:8080/"
        },
        "id": "mf3vi3vZf6KL",
        "outputId": "e08d7a3a-8130-4f5d-8d01-964ebf4d8699"
      },
      "execution_count": null,
      "outputs": [
        {
          "output_type": "stream",
          "name": "stdout",
          "text": [
            "0\n",
            "0\n",
            "1\n",
            "1\n",
            "2\n",
            "2\n",
            "3\n",
            "3\n"
          ]
        }
      ]
    },
    {
      "cell_type": "code",
      "source": [
        "arr = np.array([[1,2,3],[4,5,6],[7,8,9],[10,11,12]])\n",
        "print(arr.ndim)"
      ],
      "metadata": {
        "colab": {
          "base_uri": "https://localhost:8080/"
        },
        "id": "Vlpl5pbsvqMQ",
        "outputId": "04fbc049-91b7-4338-8d04-e93aaf7d6abb"
      },
      "execution_count": null,
      "outputs": [
        {
          "output_type": "stream",
          "name": "stdout",
          "text": [
            "2\n"
          ]
        }
      ]
    },
    {
      "cell_type": "code",
      "source": [
        "tupel = (\"Oshank\",\"Agrawal\")\n",
        "array = np.array(tupel)\n",
        "print(array.ndim)"
      ],
      "metadata": {
        "colab": {
          "base_uri": "https://localhost:8080/"
        },
        "id": "sgH13384YGGZ",
        "outputId": "76c1ced8-ff92-44f1-b95d-651c2acd85bb"
      },
      "execution_count": null,
      "outputs": [
        {
          "output_type": "stream",
          "name": "stdout",
          "text": [
            "1\n"
          ]
        }
      ]
    },
    {
      "cell_type": "markdown",
      "source": [
        "**Higher Dimensional Array**"
      ],
      "metadata": {
        "id": "ZyIKBEGZgrAz"
      }
    },
    {
      "cell_type": "code",
      "source": [
        "arrayhd = np.array([[1,2,3],[4,5,6],[7,8,9]],ndmin=5)\n",
        "print(arrayhd)\n",
        "print(\"Number of dimensions; \",arrayhd.ndim)"
      ],
      "metadata": {
        "colab": {
          "base_uri": "https://localhost:8080/"
        },
        "id": "h1J3d0NPgwCw",
        "outputId": "7691694a-3535-4c3c-ae33-642a6bb38309"
      },
      "execution_count": null,
      "outputs": [
        {
          "output_type": "stream",
          "name": "stdout",
          "text": [
            "[[[[[1 2 3]\n",
            "    [4 5 6]\n",
            "    [7 8 9]]]]]\n",
            "Number of dimensions;  5\n"
          ]
        }
      ]
    },
    {
      "cell_type": "markdown",
      "source": [
        "#Access Array Element"
      ],
      "metadata": {
        "id": "oHWFXl1ru_3m"
      }
    },
    {
      "cell_type": "markdown",
      "source": [
        "**Access 1-D Array Element**"
      ],
      "metadata": {
        "id": "g0dEBGySiRLA"
      }
    },
    {
      "cell_type": "code",
      "source": [
        "print(\"Access the first element...\",array1n[0])\n",
        "print(\"Access the first element...\",array1s[0])\n",
        "print(\"Access the second element...\",array1n[1])\n",
        "print(\"Access the second element...\",array1s[1])\n",
        "print(\"Add the first & second element...\",array1n[0]+array1n[1])\n",
        "print(\"Add the first & second element...\",array1s[0]+array1s[1])"
      ],
      "metadata": {
        "colab": {
          "base_uri": "https://localhost:8080/"
        },
        "id": "-TRT7yyHiYhv",
        "outputId": "dbe763c6-948f-483e-cfb1-57e32ebfee82"
      },
      "execution_count": null,
      "outputs": [
        {
          "output_type": "stream",
          "name": "stdout",
          "text": [
            "Access the first element... 1\n",
            "Access the first element... Oshank\n",
            "Access the second element... 2\n",
            "Access the second element... Agrawal\n",
            "Add the first & second element... 3\n",
            "Add the first & second element... OshankAgrawal\n"
          ]
        }
      ]
    },
    {
      "cell_type": "markdown",
      "source": [
        "**Access 2-D Array Element**"
      ],
      "metadata": {
        "id": "Q_HIiM6Eiula"
      }
    },
    {
      "cell_type": "code",
      "source": [
        "print(\"Middle element of the array...\",array2s[1,1])"
      ],
      "metadata": {
        "colab": {
          "base_uri": "https://localhost:8080/"
        },
        "id": "2n7nd9FYlBj0",
        "outputId": "dcbd7af9-1a05-4ee7-e5ef-19cb931fba5e"
      },
      "execution_count": null,
      "outputs": [
        {
          "output_type": "stream",
          "name": "stdout",
          "text": [
            "Middle element of the array... B\n"
          ]
        }
      ]
    },
    {
      "cell_type": "markdown",
      "source": [
        "**Access 3-D Array Element**"
      ],
      "metadata": {
        "id": "Zodp3shPk0uW"
      }
    },
    {
      "cell_type": "code",
      "source": [
        "print(\"Middle element of the array...\",array3s[1,1,1])"
      ],
      "metadata": {
        "colab": {
          "base_uri": "https://localhost:8080/"
        },
        "id": "jh026NIdlorz",
        "outputId": "a4de5e48-8375-4f62-bd16-dd7a6d051f02"
      },
      "execution_count": null,
      "outputs": [
        {
          "output_type": "stream",
          "name": "stdout",
          "text": [
            "Middle element of the array... E\n"
          ]
        }
      ]
    },
    {
      "cell_type": "markdown",
      "source": [
        "**Negative Indexing in 1-D array**"
      ],
      "metadata": {
        "id": "PQWZ73EamUV3"
      }
    },
    {
      "cell_type": "code",
      "source": [
        "print(\"Second last element of array....\",array1n[-2])"
      ],
      "metadata": {
        "colab": {
          "base_uri": "https://localhost:8080/"
        },
        "id": "gG_nW6FymXy3",
        "outputId": "7422feaa-b6ca-4cf2-beb4-ba1a67213aef"
      },
      "execution_count": null,
      "outputs": [
        {
          "output_type": "stream",
          "name": "stdout",
          "text": [
            "Second last element of array.... 3\n"
          ]
        }
      ]
    },
    {
      "cell_type": "markdown",
      "source": [
        "**Negative Indexing in 2-D Array**"
      ],
      "metadata": {
        "id": "jwg-SLgImwK2"
      }
    },
    {
      "cell_type": "code",
      "source": [
        "print(\"Second row first column\",array2n[-2,-3])"
      ],
      "metadata": {
        "colab": {
          "base_uri": "https://localhost:8080/"
        },
        "id": "EjkB0rH3m3Qq",
        "outputId": "253f024f-faeb-42db-bd0d-8c9f65e2b3a2"
      },
      "execution_count": null,
      "outputs": [
        {
          "output_type": "stream",
          "name": "stdout",
          "text": [
            "4\n"
          ]
        }
      ]
    },
    {
      "cell_type": "markdown",
      "source": [
        "#Iterations on Array"
      ],
      "metadata": {
        "id": "c-JOMA-TvcQb"
      }
    },
    {
      "cell_type": "markdown",
      "source": [
        "**Negative Indexing in 3-D Array**"
      ],
      "metadata": {
        "id": "TbrG-gMonfFn"
      }
    },
    {
      "cell_type": "code",
      "source": [
        "print(array3s[-1,-3,-3])"
      ],
      "metadata": {
        "colab": {
          "base_uri": "https://localhost:8080/"
        },
        "id": "pP2DBtVanXF9",
        "outputId": "cbddb89c-1d61-46e6-dc27-fa2f61f8b6a4"
      },
      "execution_count": null,
      "outputs": [
        {
          "output_type": "stream",
          "name": "stdout",
          "text": [
            "Madhavi\n"
          ]
        }
      ]
    },
    {
      "cell_type": "markdown",
      "source": [
        "**Check the type of array**"
      ],
      "metadata": {
        "id": "oeSKXepTvNW5"
      }
    },
    {
      "cell_type": "code",
      "source": [
        "print(type(array0n))\n",
        "print(type(array0s))\n",
        "print(type(array1n))\n",
        "print(type(array1s))\n",
        "print(type(array2n))\n",
        "print(type(array2s))\n",
        "print(type(array3n))\n",
        "print(type(array3s))"
      ],
      "metadata": {
        "colab": {
          "base_uri": "https://localhost:8080/"
        },
        "id": "qOi-huG7vWus",
        "outputId": "bff6b202-4500-4e93-c854-983642b20f95"
      },
      "execution_count": null,
      "outputs": [
        {
          "output_type": "stream",
          "name": "stdout",
          "text": [
            "<class 'numpy.ndarray'>\n",
            "<class 'numpy.ndarray'>\n",
            "<class 'numpy.ndarray'>\n",
            "<class 'numpy.ndarray'>\n",
            "<class 'numpy.ndarray'>\n",
            "<class 'numpy.ndarray'>\n",
            "<class 'numpy.ndarray'>\n",
            "<class 'numpy.ndarray'>\n"
          ]
        }
      ]
    },
    {
      "cell_type": "code",
      "source": [
        "tupel = (\"Oshank\",\"Agrawal\")\n",
        "array = np.array(tupel)\n",
        "print(type(array))"
      ],
      "metadata": {
        "colab": {
          "base_uri": "https://localhost:8080/"
        },
        "id": "W7BE6GN-Xyge",
        "outputId": "31bd8293-e3cd-4480-dcc6-00bf5918026b"
      },
      "execution_count": null,
      "outputs": [
        {
          "output_type": "stream",
          "name": "stdout",
          "text": [
            "<class 'numpy.ndarray'>\n"
          ]
        }
      ]
    },
    {
      "cell_type": "markdown",
      "source": [
        "**Check the data type of elements of Array**"
      ],
      "metadata": {
        "id": "WcZlp8Jxpzbc"
      }
    },
    {
      "cell_type": "code",
      "source": [
        "print(array0n.dtype)\n",
        "print(array0s.dtype)\n",
        "print(array1n.dtype)\n",
        "print(array1s.dtype)\n",
        "print(array2n.dtype)\n",
        "print(array2s.dtype)\n",
        "print(array3n.dtype)\n",
        "print(array3s.dtype)"
      ],
      "metadata": {
        "colab": {
          "base_uri": "https://localhost:8080/"
        },
        "id": "VyJ1xL0up7Tj",
        "outputId": "51177154-de31-422f-e172-39676a6245bf"
      },
      "execution_count": null,
      "outputs": [
        {
          "output_type": "stream",
          "name": "stdout",
          "text": [
            "int64\n",
            "<U6\n",
            "int64\n",
            "<U12\n",
            "int64\n",
            "<U12\n",
            "int64\n",
            "<U9\n"
          ]
        }
      ]
    },
    {
      "cell_type": "code",
      "source": [
        "tupel = (\"Oshank\",\"Agrawal\")\n",
        "array = np.array(tupel)\n",
        "print(array)\n",
        "print(array.dtype)"
      ],
      "metadata": {
        "colab": {
          "base_uri": "https://localhost:8080/"
        },
        "id": "ZyaEIqQ3YU2H",
        "outputId": "e04abf83-cfcb-4822-d430-48b86f83fcd2"
      },
      "execution_count": null,
      "outputs": [
        {
          "output_type": "stream",
          "name": "stdout",
          "text": [
            "['Oshank' 'Agrawal']\n",
            "<U7\n"
          ]
        }
      ]
    },
    {
      "cell_type": "markdown",
      "source": [
        "**Check the shape of array**"
      ],
      "metadata": {
        "id": "dv33ouPev2Eg"
      }
    },
    {
      "cell_type": "code",
      "source": [
        "print(array0n.shape)\n",
        "print(array0s.shape)\n",
        "print(array1n.shape)\n",
        "print(array1s.shape)\n",
        "print(array2n.shape)\n",
        "print(array2s.shape)\n",
        "print(array3n.shape)\n",
        "print(array3s.shape)"
      ],
      "metadata": {
        "colab": {
          "base_uri": "https://localhost:8080/"
        },
        "id": "0PGI_PVixUlm",
        "outputId": "bfc283b8-163b-42d6-96e7-6e8dfb81cdf7"
      },
      "execution_count": null,
      "outputs": [
        {
          "output_type": "stream",
          "name": "stdout",
          "text": [
            "()\n",
            "()\n",
            "(4,)\n",
            "(4,)\n",
            "(3, 3)\n",
            "(3, 3)\n",
            "(3, 3, 3)\n",
            "(3, 3, 3)\n"
          ]
        }
      ]
    },
    {
      "cell_type": "code",
      "source": [
        "tupel = (\"Oshank\",\"Agrawal\")\n",
        "array = np.array(tupel)\n",
        "print(array.shape)"
      ],
      "metadata": {
        "colab": {
          "base_uri": "https://localhost:8080/"
        },
        "id": "w5XuDOb9YLE7",
        "outputId": "639f8b17-8c13-4201-d0fb-188d165fa8f1"
      },
      "execution_count": null,
      "outputs": [
        {
          "output_type": "stream",
          "name": "stdout",
          "text": [
            "(2,)\n"
          ]
        }
      ]
    },
    {
      "cell_type": "markdown",
      "source": [
        "**Size of array**"
      ],
      "metadata": {
        "id": "YQDpr_C4x77b"
      }
    },
    {
      "cell_type": "code",
      "source": [
        "print(array0n.size)\n",
        "print(array0s.size)\n",
        "print(array1n.size)\n",
        "print(array1s.size)\n",
        "print(array2n.size)\n",
        "print(array2s.size)\n",
        "print(array3n.size)\n",
        "print(array3s.size)"
      ],
      "metadata": {
        "colab": {
          "base_uri": "https://localhost:8080/"
        },
        "id": "6ARNBGeryXZL",
        "outputId": "0d0a316c-f816-4d46-b8b3-1fa145c87cc6"
      },
      "execution_count": null,
      "outputs": [
        {
          "output_type": "stream",
          "name": "stdout",
          "text": [
            "1\n",
            "1\n",
            "4\n",
            "4\n",
            "9\n",
            "9\n",
            "27\n",
            "27\n"
          ]
        }
      ]
    },
    {
      "cell_type": "code",
      "source": [
        "tupel = (\"Oshank\",\"Agrawal\")\n",
        "array = np.array(tupel)\n",
        "print(array.size)"
      ],
      "metadata": {
        "colab": {
          "base_uri": "https://localhost:8080/"
        },
        "id": "ktFcegJXYQRE",
        "outputId": "4396cfd0-6c96-4573-fd56-d60acab3a117"
      },
      "execution_count": null,
      "outputs": [
        {
          "output_type": "stream",
          "name": "stdout",
          "text": [
            "2\n"
          ]
        }
      ]
    },
    {
      "cell_type": "markdown",
      "source": [
        "---"
      ],
      "metadata": {
        "id": "-aIRe2aQuq6L"
      }
    },
    {
      "cell_type": "markdown",
      "source": [
        "#Slicing of Array"
      ],
      "metadata": {
        "id": "MqVi6COYuiov"
      }
    },
    {
      "cell_type": "markdown",
      "source": [
        "**Array Slicing**"
      ],
      "metadata": {
        "id": "DjuCmHuNup71"
      }
    },
    {
      "cell_type": "code",
      "source": [
        "arr = np.array([[1,2,3],[4,5,6],[7,8,9],[10,11,12]])"
      ],
      "metadata": {
        "id": "xiF3K2DMv299"
      },
      "execution_count": null,
      "outputs": []
    },
    {
      "cell_type": "markdown",
      "source": [
        "**Slice the first row onward**"
      ],
      "metadata": {
        "id": "MCBl7tYbwARq"
      }
    },
    {
      "cell_type": "code",
      "source": [
        "print(\"Array before the slicing\")\n",
        "print(arr)\n",
        "print (\"\\n\")\n",
        "print(\"Array after the slicing\")\n",
        "print(arr[1:4])"
      ],
      "metadata": {
        "colab": {
          "base_uri": "https://localhost:8080/"
        },
        "id": "z-RQ4YQcwJFe",
        "outputId": "134bf59a-1d30-464a-ddcd-b5a7caf5bc51"
      },
      "execution_count": null,
      "outputs": [
        {
          "output_type": "stream",
          "name": "stdout",
          "text": [
            "Array before the slicing\n",
            "[[ 1  2  3]\n",
            " [ 4  5  6]\n",
            " [ 7  8  9]\n",
            " [10 11 12]]\n",
            "\n",
            "\n",
            "Array after the slicing\n",
            "[[ 4  5  6]\n",
            " [ 7  8  9]\n",
            " [10 11 12]]\n"
          ]
        }
      ]
    },
    {
      "cell_type": "markdown",
      "source": [
        "**Slice all the items from the first column onward**"
      ],
      "metadata": {
        "id": "H50eqQdywNZJ"
      }
    },
    {
      "cell_type": "code",
      "source": [
        "print(\"Array before the slicing\")\n",
        "print(arr)\n",
        "print (\"\\n\")\n",
        "print(\"Array after the slicing\")\n",
        "print(arr[0:4,1:3])"
      ],
      "metadata": {
        "colab": {
          "base_uri": "https://localhost:8080/"
        },
        "id": "Oly6Jk7RwRfz",
        "outputId": "cebf37d0-d00a-4996-f81d-13708bd9add8"
      },
      "execution_count": null,
      "outputs": [
        {
          "output_type": "stream",
          "name": "stdout",
          "text": [
            "Array before the slicing\n",
            "[[ 1  2  3]\n",
            " [ 4  5  6]\n",
            " [ 7  8  9]\n",
            " [10 11 12]]\n",
            "\n",
            "\n",
            "Array after the slicing\n",
            "[[ 2  3]\n",
            " [ 5  6]\n",
            " [ 8  9]\n",
            " [11 12]]\n"
          ]
        }
      ]
    },
    {
      "cell_type": "markdown",
      "source": [
        "**Output should be second row only**"
      ],
      "metadata": {
        "id": "1gBjFoNcwVQG"
      }
    },
    {
      "cell_type": "code",
      "source": [
        "print(\"Array before the slicing\")\n",
        "print(arr)\n",
        "print (\"\\n\")\n",
        "print(\"Array after the slicing\")\n",
        "print(arr[1])"
      ],
      "metadata": {
        "colab": {
          "base_uri": "https://localhost:8080/"
        },
        "id": "0G1Yegf9wX4A",
        "outputId": "7fc786ad-d048-4985-ef79-8fa7b09d39e2"
      },
      "execution_count": null,
      "outputs": [
        {
          "output_type": "stream",
          "name": "stdout",
          "text": [
            "Array before the slicing\n",
            "[[ 1  2  3]\n",
            " [ 4  5  6]\n",
            " [ 7  8  9]\n",
            " [10 11 12]]\n",
            "\n",
            "\n",
            "Array after the slicing\n",
            "[4 5 6]\n"
          ]
        }
      ]
    },
    {
      "cell_type": "markdown",
      "source": [
        "**Output should be second column only**"
      ],
      "metadata": {
        "id": "JyxTQfNuwbc5"
      }
    },
    {
      "cell_type": "code",
      "source": [
        "print(\"Array before the slicing\")\n",
        "print(arr)\n",
        "print (\"\\n\")\n",
        "print(\"Array after the slicing\")\n",
        "print(arr[0:4,1:2])"
      ],
      "metadata": {
        "colab": {
          "base_uri": "https://localhost:8080/"
        },
        "id": "BFcP5ok6wfsJ",
        "outputId": "bd5454c0-f67f-483a-ca03-551bad921ee7"
      },
      "execution_count": null,
      "outputs": [
        {
          "output_type": "stream",
          "name": "stdout",
          "text": [
            "Array before the slicing\n",
            "[[ 1  2  3]\n",
            " [ 4  5  6]\n",
            " [ 7  8  9]\n",
            " [10 11 12]]\n",
            "\n",
            "\n",
            "Array after the slicing\n",
            "[[ 2]\n",
            " [ 5]\n",
            " [ 8]\n",
            " [11]]\n"
          ]
        }
      ]
    },
    {
      "cell_type": "code",
      "source": [
        "print(\"Array before the slicing\")\n",
        "print(arr)\n",
        "print (\"\\n\")\n",
        "print(\"Array after the slicing\")\n",
        "print(arr[0:4,1])"
      ],
      "metadata": {
        "id": "RW2SRavZwkCS",
        "outputId": "92553ac9-5916-4119-afc8-f8f380610652",
        "colab": {
          "base_uri": "https://localhost:8080/"
        }
      },
      "execution_count": null,
      "outputs": [
        {
          "output_type": "stream",
          "name": "stdout",
          "text": [
            "Array before the slicing\n",
            "[[ 1  2  3]\n",
            " [ 4  5  6]\n",
            " [ 7  8  9]\n",
            " [10 11 12]]\n",
            "\n",
            "\n",
            "Array after the slicing\n",
            "[ 2  5  8 11]\n"
          ]
        }
      ]
    }
  ]
}